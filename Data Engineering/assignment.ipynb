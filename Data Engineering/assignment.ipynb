{
  "cells": [
    {
      "cell_type": "code",
      "source": [
        "pip install pyspark"
      ],
      "metadata": {
        "colab": {
          "base_uri": "https://localhost:8080/"
        },
        "id": "dKPNWNZ-0QFi",
        "outputId": "39e3e0b2-d957-47af-e2e6-2face4234798"
      },
      "execution_count": null,
      "outputs": [
        {
          "output_type": "stream",
          "name": "stdout",
          "text": [
            "Looking in indexes: https://pypi.org/simple, https://us-python.pkg.dev/colab-wheels/public/simple/\n",
            "Collecting pyspark\n",
            "  Downloading pyspark-3.3.0.tar.gz (281.3 MB)\n",
            "\u001b[K     |████████████████████████████████| 281.3 MB 44 kB/s \n",
            "\u001b[?25hCollecting py4j==0.10.9.5\n",
            "  Downloading py4j-0.10.9.5-py2.py3-none-any.whl (199 kB)\n",
            "\u001b[K     |████████████████████████████████| 199 kB 47.4 MB/s \n",
            "\u001b[?25hBuilding wheels for collected packages: pyspark\n",
            "  Building wheel for pyspark (setup.py) ... \u001b[?25l\u001b[?25hdone\n",
            "  Created wheel for pyspark: filename=pyspark-3.3.0-py2.py3-none-any.whl size=281764026 sha256=9a88221bc6492938ba4330c2834a1dbd708c7ed07c583ccae4ead733c2c549df\n",
            "  Stored in directory: /root/.cache/pip/wheels/7a/8e/1b/f73a52650d2e5f337708d9f6a1750d451a7349a867f928b885\n",
            "Successfully built pyspark\n",
            "Installing collected packages: py4j, pyspark\n",
            "Successfully installed py4j-0.10.9.5 pyspark-3.3.0\n"
          ]
        }
      ]
    },
    {
      "cell_type": "code",
      "execution_count": null,
      "metadata": {
        "colab": {
          "base_uri": "https://localhost:8080/"
        },
        "id": "KcGCp1C50J5A",
        "outputId": "c890562b-ae26-4352-b0ab-14031100bd68"
      },
      "outputs": [
        {
          "output_type": "stream",
          "name": "stdout",
          "text": [
            "root\n",
            " |-- Address: string (nullable = true)\n",
            " |-- Amount: string (nullable = true)\n",
            " |-- Contribution Mode: string (nullable = true)\n",
            " |-- Financial Year: string (nullable = true)\n",
            " |-- Name: string (nullable = true)\n",
            " |-- PAN Given: string (nullable = true)\n",
            " |-- Party: string (nullable = true)\n",
            " |-- Type: string (nullable = true)\n",
            " |-- _corrupt_record: string (nullable = true)\n",
            " |-- field10: string (nullable = true)\n",
            " |-- field11: string (nullable = true)\n",
            " |-- field12: string (nullable = true)\n",
            " |-- field13: string (nullable = true)\n",
            " |-- field14: string (nullable = true)\n",
            " |-- field9: string (nullable = true)\n",
            "\n",
            "+--------------------+--------+--------------------+--------------+--------------------+---------+------+------+---------------+-------+-------+-------+-------+-------+------+\n",
            "|             Address|  Amount|   Contribution Mode|Financial Year|                Name|PAN Given| Party|  Type|_corrupt_record|field10|field11|field12|field13|field14|field9|\n",
            "+--------------------+--------+--------------------+--------------+--------------------+---------+------+------+---------------+-------+-------+-------+-------+-------+------+\n",
            "|                null|    null|                null|          null|                null|     null|  null|  null|              [|   null|   null|   null|   null|   null|  null|\n",
            "|16-B, Ferozeshah ...| 3000000|                CASH|       2010-11|          Aziz Pasha|        Y|   CPI|Others|           null|       |       |       |       |       |      |\n",
            "|No.1, First Floor...|10000000|000037, HDFC Bank...|       2014-15|    V K Ramachandran|        Y|CPI(M)|Others|           null|       |       |       |       |       |      |\n",
            "|3, Motilal Nehru ...|  108000|Cheque, State Ban...|       2014-15|  Dr. Manmohan Singh|        N|   INC|Others|           null|       |       |       |       |       |      |\n",
            "|9,Firozshah Road ...|   54000|Through Bank Tran...|       2011-12| Dr. Manda Jagnathan|        N|   INC|Others|           null|       |       |       |       |       |      |\n",
            "|17,Dr.B.R.Mehta L...|   54000|Through Bank Tran...|       2011-12|    Prof. K.V.Thomas|        N|   INC|Others|           null|       |       |       |       |       |      |\n",
            "|31 Shamla Hills B...|  100000|          146865 SBI|       2011-12|     Sweta Chyouksey|        Y|   BJP|Others|           null|       |       |       |       |       |      |\n",
            "|45 Bunglows Bhopa...|  100000|          994966 SBI|       2011-12|   Uma Shankar Gupta|        N|   BJP|Others|           null|       |       |       |       |       |      |\n",
            "|                  --|   25000|14021,  Union Ban...|       2013-14|Parshwanath Bhakt...|        N|   BJP|Others|           null|       |       |       |       |       |      |\n",
            "|9 Santoshi Ayodhy...|  100000|          168278 SBI|       2011-12|Anand Constructio...|        Y|   BJP|Others|           null|       |       |       |       |       |      |\n",
            "|197, North Avenue...|   54000|       Bank Transfer|       2013-14|       Kamal Kashore|        N|   INC|Others|           null|       |       |       |       |       |      |\n",
            "|              Mumbai|  100000|955592 Bank Of In...|       2004-05|          R.V Pandit|        N|   BJP|Others|           null|       |       |       |       |       |      |\n",
            "|                  --|  100000|              430969|       2012-13|      A & T Infracon|        N|   BJP|Others|           null|       |       |       |       |       |      |\n",
            "|G/3 Phonix Buildi...|  300000|Cheque No.884045 ...|       2008-09|A 2 Z online  Ser...|        N|   BJP|Others|           null|       |       |       |       |       |      |\n",
            "|G/3 Phonix Buildi...|  200000|Cheque No-  88404...|       2008-09|A 2 Z online  Ser...|        N|   BJP|Others|           null|       |       |       |       |       |      |\n",
            "|G/3 Phonix Buildi...|  200000|Cheque No-  88404...|       2008-09|A 2 Z online  Ser...|        N|   BJP|Others|           null|       |       |       |       |       |      |\n",
            "|                  --|  125000|952450, Saraswat ...|       2012-13|A B Rolling Mills...|        N|   BJP|Others|           null|       |       |       |       |       |      |\n",
            "|82, Narbada Road ...|  100000|72437 Allahabad Bank|       2011-12|           A C Dixit|        N|   BJP|Others|           null|       |       |       |       |       |      |\n",
            "|S.F.S. Tirupati A...|  100000|174993, Union Ban...|       2014-15|        A D Builders|        Y|   BJP|Others|           null|       |       |       |       |       |      |\n",
            "|                  --|   21000|            234, BOI|       2012-13|               A Fox|        N|   BJP|Others|           null|       |       |       |       |       |      |\n",
            "+--------------------+--------+--------------------+--------------+--------------------+---------+------+------+---------------+-------+-------+-------+-------+-------+------+\n",
            "only showing top 20 rows\n",
            "\n"
          ]
        }
      ],
      "source": [
        "import pyspark as spark\n",
        "import json\n",
        "from pyspark.sql import SparkSession\n",
        "\n",
        "spark = SparkSession.builder.getOrCreate()\n",
        "\n",
        "# Displaying the dataframe\n",
        "df = spark.read.json(\"donation_np.json\")\n",
        "df.printSchema()\n",
        "df.show()\n"
      ]
    },
    {
      "cell_type": "code",
      "execution_count": null,
      "metadata": {
        "colab": {
          "base_uri": "https://localhost:8080/"
        },
        "id": "0996Sgue0J5D",
        "outputId": "11024704-c524-4b06-efbd-6dfef077072b"
      },
      "outputs": [
        {
          "output_type": "stream",
          "name": "stdout",
          "text": [
            "+--------------------+--------+--------------------+--------------+--------------------+---------+------+------+---------------+-------+-------+-------+-------+-------+------+\n",
            "|             Address|  Amount|   Contribution Mode|Financial Year|                Name|PAN Given| Party|  Type|_corrupt_record|field10|field11|field12|field13|field14|field9|\n",
            "+--------------------+--------+--------------------+--------------+--------------------+---------+------+------+---------------+-------+-------+-------+-------+-------+------+\n",
            "|16-B, Ferozeshah ...| 3000000|                CASH|       2010-11|          Aziz Pasha|        Y|   CPI|Others|           null|       |       |       |       |       |      |\n",
            "|No.1, First Floor...|10000000|000037, HDFC Bank...|       2014-15|    V K Ramachandran|        Y|CPI(M)|Others|           null|       |       |       |       |       |      |\n",
            "|3, Motilal Nehru ...|  108000|Cheque, State Ban...|       2014-15|  Dr. Manmohan Singh|        N|   INC|Others|           null|       |       |       |       |       |      |\n",
            "|9,Firozshah Road ...|   54000|Through Bank Tran...|       2011-12| Dr. Manda Jagnathan|        N|   INC|Others|           null|       |       |       |       |       |      |\n",
            "|17,Dr.B.R.Mehta L...|   54000|Through Bank Tran...|       2011-12|    Prof. K.V.Thomas|        N|   INC|Others|           null|       |       |       |       |       |      |\n",
            "|31 Shamla Hills B...|  100000|          146865 SBI|       2011-12|     Sweta Chyouksey|        Y|   BJP|Others|           null|       |       |       |       |       |      |\n",
            "|45 Bunglows Bhopa...|  100000|          994966 SBI|       2011-12|   Uma Shankar Gupta|        N|   BJP|Others|           null|       |       |       |       |       |      |\n",
            "|                  --|   25000|14021,  Union Ban...|       2013-14|Parshwanath Bhakt...|        N|   BJP|Others|           null|       |       |       |       |       |      |\n",
            "|9 Santoshi Ayodhy...|  100000|          168278 SBI|       2011-12|Anand Constructio...|        Y|   BJP|Others|           null|       |       |       |       |       |      |\n",
            "|197, North Avenue...|   54000|       Bank Transfer|       2013-14|       Kamal Kashore|        N|   INC|Others|           null|       |       |       |       |       |      |\n",
            "|              Mumbai|  100000|955592 Bank Of In...|       2004-05|          R.V Pandit|        N|   BJP|Others|           null|       |       |       |       |       |      |\n",
            "|                  --|  100000|              430969|       2012-13|      A & T Infracon|        N|   BJP|Others|           null|       |       |       |       |       |      |\n",
            "|G/3 Phonix Buildi...|  300000|Cheque No.884045 ...|       2008-09|A 2 Z online  Ser...|        N|   BJP|Others|           null|       |       |       |       |       |      |\n",
            "|G/3 Phonix Buildi...|  200000|Cheque No-  88404...|       2008-09|A 2 Z online  Ser...|        N|   BJP|Others|           null|       |       |       |       |       |      |\n",
            "|G/3 Phonix Buildi...|  200000|Cheque No-  88404...|       2008-09|A 2 Z online  Ser...|        N|   BJP|Others|           null|       |       |       |       |       |      |\n",
            "|                  --|  125000|952450, Saraswat ...|       2012-13|A B Rolling Mills...|        N|   BJP|Others|           null|       |       |       |       |       |      |\n",
            "|82, Narbada Road ...|  100000|72437 Allahabad Bank|       2011-12|           A C Dixit|        N|   BJP|Others|           null|       |       |       |       |       |      |\n",
            "|S.F.S. Tirupati A...|  100000|174993, Union Ban...|       2014-15|        A D Builders|        Y|   BJP|Others|           null|       |       |       |       |       |      |\n",
            "|                  --|   21000|            234, BOI|       2012-13|               A Fox|        N|   BJP|Others|           null|       |       |       |       |       |      |\n",
            "|211/213, Raja Bha...|  100000|Ch. No. 62063/dtd...|       2009-10|A Mahendra Jewellers|        Y|   INC|Others|           null|       |       |       |       |       |      |\n",
            "+--------------------+--------+--------------------+--------------+--------------------+---------+------+------+---------------+-------+-------+-------+-------+-------+------+\n",
            "only showing top 20 rows\n",
            "\n"
          ]
        }
      ],
      "source": [
        "# Dropping the null rows\n",
        "df = df.na.drop(subset=['Name'])\n",
        "df.show()"
      ]
    },
    {
      "cell_type": "code",
      "execution_count": null,
      "metadata": {
        "colab": {
          "base_uri": "https://localhost:8080/"
        },
        "id": "c2o_eywx0J5E",
        "outputId": "48bc3f47-f571-438d-e339-78445a6de392"
      },
      "outputs": [
        {
          "output_type": "stream",
          "name": "stdout",
          "text": [
            "+--------------------+--------+--------------------+--------+--------------------+---------+------+------+---------------+-------+-------+-------+-------+-------+------+\n",
            "|             Address|  Amount|     mode_of_payment|fin_year|                Name|pan_given| Party|  Type|_corrupt_record|field10|field11|field12|field13|field14|field9|\n",
            "+--------------------+--------+--------------------+--------+--------------------+---------+------+------+---------------+-------+-------+-------+-------+-------+------+\n",
            "|16-B, Ferozeshah ...| 3000000|                CASH| 2010-11|          Aziz Pasha|        Y|   CPI|Others|           null|       |       |       |       |       |      |\n",
            "|No.1, First Floor...|10000000|000037, HDFC Bank...| 2014-15|    V K Ramachandran|        Y|CPI(M)|Others|           null|       |       |       |       |       |      |\n",
            "|3, Motilal Nehru ...|  108000|Cheque, State Ban...| 2014-15|  Dr. Manmohan Singh|        N|   INC|Others|           null|       |       |       |       |       |      |\n",
            "|9,Firozshah Road ...|   54000|Through Bank Tran...| 2011-12| Dr. Manda Jagnathan|        N|   INC|Others|           null|       |       |       |       |       |      |\n",
            "|17,Dr.B.R.Mehta L...|   54000|Through Bank Tran...| 2011-12|    Prof. K.V.Thomas|        N|   INC|Others|           null|       |       |       |       |       |      |\n",
            "|31 Shamla Hills B...|  100000|          146865 SBI| 2011-12|     Sweta Chyouksey|        Y|   BJP|Others|           null|       |       |       |       |       |      |\n",
            "|45 Bunglows Bhopa...|  100000|          994966 SBI| 2011-12|   Uma Shankar Gupta|        N|   BJP|Others|           null|       |       |       |       |       |      |\n",
            "|                  --|   25000|14021,  Union Ban...| 2013-14|Parshwanath Bhakt...|        N|   BJP|Others|           null|       |       |       |       |       |      |\n",
            "|9 Santoshi Ayodhy...|  100000|          168278 SBI| 2011-12|Anand Constructio...|        Y|   BJP|Others|           null|       |       |       |       |       |      |\n",
            "|197, North Avenue...|   54000|       Bank Transfer| 2013-14|       Kamal Kashore|        N|   INC|Others|           null|       |       |       |       |       |      |\n",
            "|              Mumbai|  100000|955592 Bank Of In...| 2004-05|          R.V Pandit|        N|   BJP|Others|           null|       |       |       |       |       |      |\n",
            "|                  --|  100000|              430969| 2012-13|      A & T Infracon|        N|   BJP|Others|           null|       |       |       |       |       |      |\n",
            "|G/3 Phonix Buildi...|  300000|Cheque No.884045 ...| 2008-09|A 2 Z online  Ser...|        N|   BJP|Others|           null|       |       |       |       |       |      |\n",
            "|G/3 Phonix Buildi...|  200000|Cheque No-  88404...| 2008-09|A 2 Z online  Ser...|        N|   BJP|Others|           null|       |       |       |       |       |      |\n",
            "|G/3 Phonix Buildi...|  200000|Cheque No-  88404...| 2008-09|A 2 Z online  Ser...|        N|   BJP|Others|           null|       |       |       |       |       |      |\n",
            "|                  --|  125000|952450, Saraswat ...| 2012-13|A B Rolling Mills...|        N|   BJP|Others|           null|       |       |       |       |       |      |\n",
            "|82, Narbada Road ...|  100000|72437 Allahabad Bank| 2011-12|           A C Dixit|        N|   BJP|Others|           null|       |       |       |       |       |      |\n",
            "|S.F.S. Tirupati A...|  100000|174993, Union Ban...| 2014-15|        A D Builders|        Y|   BJP|Others|           null|       |       |       |       |       |      |\n",
            "|                  --|   21000|            234, BOI| 2012-13|               A Fox|        N|   BJP|Others|           null|       |       |       |       |       |      |\n",
            "|211/213, Raja Bha...|  100000|Ch. No. 62063/dtd...| 2009-10|A Mahendra Jewellers|        Y|   INC|Others|           null|       |       |       |       |       |      |\n",
            "+--------------------+--------+--------------------+--------+--------------------+---------+------+------+---------------+-------+-------+-------+-------+-------+------+\n",
            "only showing top 20 rows\n",
            "\n"
          ]
        }
      ],
      "source": [
        "# Renaming the column name \n",
        "df =df.withColumnRenamed(\"Contribution Mode\",\"mode_of_payment\").withColumnRenamed(\"Financial Year\",\"fin_year\").withColumnRenamed(\"PAN Given\",\"pan_given\")\n",
        "df.show()"
      ]
    },
    {
      "cell_type": "code",
      "execution_count": null,
      "metadata": {
        "colab": {
          "base_uri": "https://localhost:8080/"
        },
        "id": "n2Du5t7D0J5E",
        "outputId": "f740f057-dd16-4135-c48f-d89b95259ef1"
      },
      "outputs": [
        {
          "output_type": "stream",
          "name": "stdout",
          "text": [
            "+--------------------+--------+--------------------+--------+--------------------+---------+------+------+---------------+-------+-------+-------+-------+-------+------+\n",
            "|             Address|  Amount|     mode_of_payment|fin_year|                Name|pan_given| Party|  Type|_corrupt_record|field10|field11|field12|field13|field14|field9|\n",
            "+--------------------+--------+--------------------+--------+--------------------+---------+------+------+---------------+-------+-------+-------+-------+-------+------+\n",
            "|5a3058deb6f337958...| 3000000|                CASH| 2010-11|          Aziz Pasha|        Y|   CPI|Others|           null|       |       |       |       |       |      |\n",
            "|846539cb21bc9e6c6...|10000000|000037, HDFC Bank...| 2014-15|    V K Ramachandran|        Y|CPI(M)|Others|           null|       |       |       |       |       |      |\n",
            "|869fa3a19f1c51ad1...|  108000|Cheque, State Ban...| 2014-15|  Dr. Manmohan Singh|        N|   INC|Others|           null|       |       |       |       |       |      |\n",
            "|5f04f40130569ddab...|   54000|Through Bank Tran...| 2011-12| Dr. Manda Jagnathan|        N|   INC|Others|           null|       |       |       |       |       |      |\n",
            "|524b1379d08e4c02f...|   54000|Through Bank Tran...| 2011-12|    Prof. K.V.Thomas|        N|   INC|Others|           null|       |       |       |       |       |      |\n",
            "|6db7af0c5dca3b333...|  100000|          146865 SBI| 2011-12|     Sweta Chyouksey|        Y|   BJP|Others|           null|       |       |       |       |       |      |\n",
            "|c01158e07376c3778...|  100000|          994966 SBI| 2011-12|   Uma Shankar Gupta|        N|   BJP|Others|           null|       |       |       |       |       |      |\n",
            "|d8156bae0c4243d37...|   25000|14021,  Union Ban...| 2013-14|Parshwanath Bhakt...|        N|   BJP|Others|           null|       |       |       |       |       |      |\n",
            "|15c64efe58b209e20...|  100000|          168278 SBI| 2011-12|Anand Constructio...|        Y|   BJP|Others|           null|       |       |       |       |       |      |\n",
            "|c8087c832dde2a1c4...|   54000|       Bank Transfer| 2013-14|       Kamal Kashore|        N|   INC|Others|           null|       |       |       |       |       |      |\n",
            "|9f2ba6981e36ea0fc...|  100000|955592 Bank Of In...| 2004-05|          R.V Pandit|        N|   BJP|Others|           null|       |       |       |       |       |      |\n",
            "|d8156bae0c4243d37...|  100000|              430969| 2012-13|      A & T Infracon|        N|   BJP|Others|           null|       |       |       |       |       |      |\n",
            "|9ed075605230cbb74...|  300000|Cheque No.884045 ...| 2008-09|A 2 Z online  Ser...|        N|   BJP|Others|           null|       |       |       |       |       |      |\n",
            "|4bc59ca1c387bfd59...|  200000|Cheque No-  88404...| 2008-09|A 2 Z online  Ser...|        N|   BJP|Others|           null|       |       |       |       |       |      |\n",
            "|4bc59ca1c387bfd59...|  200000|Cheque No-  88404...| 2008-09|A 2 Z online  Ser...|        N|   BJP|Others|           null|       |       |       |       |       |      |\n",
            "|d8156bae0c4243d37...|  125000|952450, Saraswat ...| 2012-13|A B Rolling Mills...|        N|   BJP|Others|           null|       |       |       |       |       |      |\n",
            "|a68f3334fbfbdf18b...|  100000|72437 Allahabad Bank| 2011-12|           A C Dixit|        N|   BJP|Others|           null|       |       |       |       |       |      |\n",
            "|e9552141c8f9ab365...|  100000|174993, Union Ban...| 2014-15|        A D Builders|        Y|   BJP|Others|           null|       |       |       |       |       |      |\n",
            "|d8156bae0c4243d37...|   21000|            234, BOI| 2012-13|               A Fox|        N|   BJP|Others|           null|       |       |       |       |       |      |\n",
            "|6f87e5d7cdf08271c...|  100000|Ch. No. 62063/dtd...| 2009-10|A Mahendra Jewellers|        Y|   INC|Others|           null|       |       |       |       |       |      |\n",
            "+--------------------+--------+--------------------+--------+--------------------+---------+------+------+---------------+-------+-------+-------+-------+-------+------+\n",
            "only showing top 20 rows\n",
            "\n"
          ]
        }
      ],
      "source": [
        "from pyspark.sql.functions import sha2, concat_ws\n",
        "df = df.withColumn(\"Address\", sha2(concat_ws(\"||\", df.Address), 256))\n",
        "df.show()"
      ]
    },
    {
      "cell_type": "code",
      "execution_count": null,
      "metadata": {
        "colab": {
          "base_uri": "https://localhost:8080/"
        },
        "id": "Zb3tlIYY0J5F",
        "outputId": "d76a44b6-d8b4-45b5-9e84-37f4528de141"
      },
      "outputs": [
        {
          "output_type": "stream",
          "name": "stdout",
          "text": [
            "+--------------------+--------+---------------+--------+--------------------+---------+------+------+---------------+-------+-------+-------+-------+-------+------+\n",
            "|             Address|  Amount|mode_of_payment|fin_year|                Name|pan_given| Party|  Type|_corrupt_record|field10|field11|field12|field13|field14|field9|\n",
            "+--------------------+--------+---------------+--------+--------------------+---------+------+------+---------------+-------+-------+-------+-------+-------+------+\n",
            "|5a3058deb6f337958...| 3000000|           CASH| 2010-11|          Aziz Pasha|        Y|   CPI|Others|           null|       |       |       |       |       |      |\n",
            "|846539cb21bc9e6c6...|10000000|           BANK| 2014-15|    V K Ramachandran|        Y|CPI(M)|Others|           null|       |       |       |       |       |      |\n",
            "|869fa3a19f1c51ad1...|  108000|         CHEQUE| 2014-15|  Dr. Manmohan Singh|        N|   INC|Others|           null|       |       |       |       |       |      |\n",
            "|5f04f40130569ddab...|   54000|           BANK| 2011-12| Dr. Manda Jagnathan|        N|   INC|Others|           null|       |       |       |       |       |      |\n",
            "|524b1379d08e4c02f...|   54000|           BANK| 2011-12|    Prof. K.V.Thomas|        N|   INC|Others|           null|       |       |       |       |       |      |\n",
            "|6db7af0c5dca3b333...|  100000|         OTHERS| 2011-12|     Sweta Chyouksey|        Y|   BJP|Others|           null|       |       |       |       |       |      |\n",
            "|c01158e07376c3778...|  100000|         OTHERS| 2011-12|   Uma Shankar Gupta|        N|   BJP|Others|           null|       |       |       |       |       |      |\n",
            "|d8156bae0c4243d37...|   25000|           BANK| 2013-14|Parshwanath Bhakt...|        N|   BJP|Others|           null|       |       |       |       |       |      |\n",
            "|15c64efe58b209e20...|  100000|         OTHERS| 2011-12|Anand Constructio...|        Y|   BJP|Others|           null|       |       |       |       |       |      |\n",
            "|c8087c832dde2a1c4...|   54000|           BANK| 2013-14|       Kamal Kashore|        N|   INC|Others|           null|       |       |       |       |       |      |\n",
            "|9f2ba6981e36ea0fc...|  100000|           BANK| 2004-05|          R.V Pandit|        N|   BJP|Others|           null|       |       |       |       |       |      |\n",
            "|d8156bae0c4243d37...|  100000|         OTHERS| 2012-13|      A & T Infracon|        N|   BJP|Others|           null|       |       |       |       |       |      |\n",
            "|9ed075605230cbb74...|  300000|         CHEQUE| 2008-09|A 2 Z online  Ser...|        N|   BJP|Others|           null|       |       |       |       |       |      |\n",
            "|4bc59ca1c387bfd59...|  200000|         CHEQUE| 2008-09|A 2 Z online  Ser...|        N|   BJP|Others|           null|       |       |       |       |       |      |\n",
            "|4bc59ca1c387bfd59...|  200000|         CHEQUE| 2008-09|A 2 Z online  Ser...|        N|   BJP|Others|           null|       |       |       |       |       |      |\n",
            "|d8156bae0c4243d37...|  125000|           BANK| 2012-13|A B Rolling Mills...|        N|   BJP|Others|           null|       |       |       |       |       |      |\n",
            "|a68f3334fbfbdf18b...|  100000|           BANK| 2011-12|           A C Dixit|        N|   BJP|Others|           null|       |       |       |       |       |      |\n",
            "|e9552141c8f9ab365...|  100000|           BANK| 2014-15|        A D Builders|        Y|   BJP|Others|           null|       |       |       |       |       |      |\n",
            "|d8156bae0c4243d37...|   21000|         OTHERS| 2012-13|               A Fox|        N|   BJP|Others|           null|       |       |       |       |       |      |\n",
            "|6f87e5d7cdf08271c...|  100000|           BANK| 2009-10|A Mahendra Jewellers|        Y|   INC|Others|           null|       |       |       |       |       |      |\n",
            "+--------------------+--------+---------------+--------+--------------------+---------+------+------+---------------+-------+-------+-------+-------+-------+------+\n",
            "only showing top 20 rows\n",
            "\n"
          ]
        }
      ],
      "source": [
        "# Categorize mode_of_payment into below 4 categories \n",
        "\n",
        "from pyspark.sql.functions import *\n",
        "\n",
        "df =df.withColumn('mode_of_payment',\n",
        "when(df.mode_of_payment.like('%Cheque%'),'CHEQUE')  \n",
        ".when(df.mode_of_payment.like('%CASH%'),'CASH') \\\n",
        ".when(df.mode_of_payment.like('%Cash%'),'CASH') \\\n",
        ".when(df.mode_of_payment.like('%Bank%'),'BANK') \\\n",
        ".otherwise('OTHERS'))\n",
        "\n",
        "df.show()"
      ]
    },
    {
      "cell_type": "code",
      "execution_count": null,
      "metadata": {
        "id": "uGKVmcUu0J5F"
      },
      "outputs": [],
      "source": [
        "# Dropping the null columns\n",
        "col = [\"field9\",\"field10\",\"field11\",\"field12\",\"field13\",\"field14\"]\n",
        "df = df.drop(*col)"
      ]
    },
    {
      "cell_type": "code",
      "execution_count": null,
      "metadata": {
        "id": "nzy5j3uK0J5G"
      },
      "outputs": [],
      "source": [
        "# Typecasting the Amount feature to int\n",
        "df = df.withColumn(\"Amount\",df.Amount.cast('int'))"
      ]
    },
    {
      "cell_type": "code",
      "execution_count": null,
      "metadata": {
        "colab": {
          "base_uri": "https://localhost:8080/"
        },
        "id": "49kcQvFw0J5H",
        "outputId": "57836088-6000-4528-dca5-0b5015060a90"
      },
      "outputs": [
        {
          "output_type": "stream",
          "name": "stdout",
          "text": [
            "+------+-------------+------------------+-----------+\n",
            "| Party|count(Amount)|       avg(Amount)|max(Amount)|\n",
            "+------+-------------+------------------+-----------+\n",
            "|   INC|         3785|1065122.1529722589|  500000000|\n",
            "|   BJP|         8782|1058474.8344340697|  500000000|\n",
            "|   NCP|          107| 6055246.906542056|   50000000|\n",
            "|   CPI|          384|177405.46354166666|    3000000|\n",
            "|CPI(M)|          515| 292470.1514563107|   10000000|\n",
            "+------+-------------+------------------+-----------+\n",
            "\n"
          ]
        },
        {
          "output_type": "execute_result",
          "data": {
            "text/plain": [
              "107"
            ]
          },
          "metadata": {},
          "execution_count": 44
        }
      ],
      "source": [
        "agg_values = df.groupBy('Party').agg(count('Amount'),\n",
        "                              avg('Amount'),\n",
        "                              max('Amount'),\n",
        "                              )\n",
        "\n",
        "agg_values.show()\n",
        "agg_values.collect()[2][1]"
      ]
    },
    {
      "cell_type": "code",
      "execution_count": null,
      "metadata": {
        "id": "kMg9cuPv0J5H"
      },
      "outputs": [],
      "source": [
        "# Storing the names of the distinct party names and Max Amount of each party\n",
        "partyNameList = agg_values.select('Party')\n",
        "maxAmountList = agg_values.select('max(Amount)')"
      ]
    },
    {
      "cell_type": "code",
      "execution_count": null,
      "metadata": {
        "id": "NSCNdZ6K0J5I"
      },
      "outputs": [],
      "source": [
        "def add_new_feature_col(featureName, partyName, i, j, df):\n",
        "    \n",
        "    df = df.withColumn(featureName, when(df.Party == partyName,agg_values.collect()[i][j]).otherwise(0))\n",
        "\n",
        "    return df\n",
        "   "
      ]
    },
    {
      "cell_type": "code",
      "execution_count": null,
      "metadata": {
        "colab": {
          "base_uri": "https://localhost:8080/"
        },
        "id": "IFKu81R10J5J",
        "outputId": "cd397226-6116-42d9-ffd7-05f71c84874a"
      },
      "outputs": [
        {
          "output_type": "stream",
          "name": "stdout",
          "text": [
            "FeatureName:  INC_COUNT_LTD\n",
            "FeatureName:  BJP_COUNT_LTD\n",
            "FeatureName:  NCP_COUNT_LTD\n",
            "FeatureName:  CPI_COUNT_LTD\n",
            "FeatureName:  CPI(M)_COUNT_LTD\n"
          ]
        }
      ],
      "source": [
        "for i in range(5):\n",
        "     j = 1\n",
        "     partyName = partyNameList.collect()[i][0]\n",
        "     featureName =  partyName + '_COUNT_LTD'\n",
        "     print(\"FeatureName: \",featureName)\n",
        "     df = add_new_feature_col(featureName, partyName, i,j,df)"
      ]
    },
    {
      "cell_type": "code",
      "execution_count": null,
      "metadata": {
        "colab": {
          "base_uri": "https://localhost:8080/"
        },
        "id": "NPSSAUvX0J5J",
        "outputId": "9fdee4c2-a8fe-4b15-a476-b0210a6a3a09"
      },
      "outputs": [
        {
          "output_type": "stream",
          "name": "stdout",
          "text": [
            "FeatureName:  INC_MAX_LTD\n",
            "FeatureName:  BJP_MAX_LTD\n",
            "FeatureName:  NCP_MAX_LTD\n",
            "FeatureName:  CPI_MAX_LTD\n",
            "FeatureName:  CPI(M)_MAX_LTD\n"
          ]
        }
      ],
      "source": [
        "for i in range(5):\n",
        "     j = 3\n",
        "     partyName = partyNameList.collect()[i][0]\n",
        "     featureName =  partyName + '_MAX_LTD'\n",
        "     print(\"FeatureName: \",featureName)\n",
        "     df = add_new_feature_col(featureName, partyName, i,j,df)"
      ]
    },
    {
      "cell_type": "code",
      "execution_count": null,
      "metadata": {
        "colab": {
          "base_uri": "https://localhost:8080/"
        },
        "id": "tl9xy3Jl0J5K",
        "outputId": "fc9048b0-a5da-4a44-b0c4-5115ccf593db"
      },
      "outputs": [
        {
          "output_type": "stream",
          "name": "stdout",
          "text": [
            "FeatureName:  INC_AVG_LTD\n",
            "FeatureName:  BJP_AVG_LTD\n",
            "FeatureName:  NCP_AVG_LTD\n",
            "FeatureName:  CPI_AVG_LTD\n",
            "FeatureName:  CPI(M)_AVG_LTD\n"
          ]
        }
      ],
      "source": [
        "for i in range(5):\n",
        "     j = 2\n",
        "     partyName = partyNameList.collect()[i][0]\n",
        "     featureName =  partyName + '_AVG_LTD'\n",
        "     print(\"FeatureName: \",featureName)\n",
        "     df = add_new_feature_col(featureName, partyName, i,j,df)"
      ]
    },
    {
      "cell_type": "code",
      "execution_count": null,
      "metadata": {
        "id": "LqOeaD7y0J5K"
      },
      "outputs": [],
      "source": [
        "from pyspark.sql.functions import *\n",
        "INC_sum = df.where(df.Party==\"INC\").select(sum(\"Amount\")).first()['sum(Amount)']\n",
        "BJP_sum = df.where(df.Party==\"BJP\").select(sum(\"Amount\")).first()['sum(Amount)']\n",
        "NCP_sum = df.where(df.Party==\"NCP\").select(sum(\"Amount\")).first()['sum(Amount)']\n",
        "CPI_sum = df.where(df.Party==\"CPI\").select(sum(\"Amount\")).first()['sum(Amount)']\n",
        "CPI_M_sum = df.where(df.Party==\"CPI(M)\").select(sum(\"Amount\")).first()['sum(Amount)']\n",
        "\n",
        "df = df.withColumn('INC_SUM_LTD', when(df.Party == \"INC\",INC_sum).otherwise(0))\\\n",
        "    .withColumn('BJP_SUM_LTD', when(df.Party == \"BJP\",BJP_sum).otherwise(0))\\\n",
        "    .withColumn('NCP_SUM_LTD', when(df.Party == \"NCP\",NCP_sum).otherwise(0))\\\n",
        "    .withColumn('CPI_SUM_LTD', when(df.Party == \"CPI\",CPI_sum).otherwise(0))\\\n",
        "    .withColumn('CPI_M_SUM_LTD', when(df.Party == \"CPI_M\",CPI_M_sum).otherwise(0))\n"
      ]
    },
    {
      "cell_type": "code",
      "execution_count": null,
      "metadata": {
        "colab": {
          "base_uri": "https://localhost:8080/"
        },
        "id": "RNCdt3dL0J5L",
        "outputId": "54c172b9-4544-40cc-e080-40128f0d9a8d"
      },
      "outputs": [
        {
          "output_type": "stream",
          "name": "stdout",
          "text": [
            "+--------------------+--------+---------------+--------+--------------------+---------+------+------+---------------+-------------+-------------+-------------+-------------+----------------+-----------+-----------+-----------+-----------+--------------+------------------+------------------+-----------+------------------+-----------------+-----------+-----------+-----------+-----------+-------------+\n",
            "|             Address|  Amount|mode_of_payment|fin_year|                Name|pan_given| Party|  Type|_corrupt_record|INC_COUNT_LTD|BJP_COUNT_LTD|NCP_COUNT_LTD|CPI_COUNT_LTD|CPI(M)_COUNT_LTD|INC_MAX_LTD|BJP_MAX_LTD|NCP_MAX_LTD|CPI_MAX_LTD|CPI(M)_MAX_LTD|       INC_AVG_LTD|       BJP_AVG_LTD|NCP_AVG_LTD|       CPI_AVG_LTD|   CPI(M)_AVG_LTD|INC_SUM_LTD|BJP_SUM_LTD|NCP_SUM_LTD|CPI_SUM_LTD|CPI_M_SUM_LTD|\n",
            "+--------------------+--------+---------------+--------+--------------------+---------+------+------+---------------+-------------+-------------+-------------+-------------+----------------+-----------+-----------+-----------+-----------+--------------+------------------+------------------+-----------+------------------+-----------------+-----------+-----------+-----------+-----------+-------------+\n",
            "|5a3058deb6f337958...| 3000000|           CASH| 2010-11|          Aziz Pasha|        Y|   CPI|Others|           null|            0|            0|            0|          384|               0|          0|          0|          0|    3000000|             0|               0.0|               0.0|        0.0|177405.46354166666|              0.0|          0|          0|          0|   68123698|            0|\n",
            "|846539cb21bc9e6c6...|10000000|           BANK| 2014-15|    V K Ramachandran|        Y|CPI(M)|Others|           null|            0|            0|            0|            0|             515|          0|          0|          0|          0|      10000000|               0.0|               0.0|        0.0|               0.0|292470.1514563107|          0|          0|          0|          0|            0|\n",
            "|869fa3a19f1c51ad1...|  108000|         CHEQUE| 2014-15|  Dr. Manmohan Singh|        N|   INC|Others|           null|         3785|            0|            0|            0|               0|  500000000|          0|          0|          0|             0|1065122.1529722589|               0.0|        0.0|               0.0|              0.0| 4031487349|          0|          0|          0|            0|\n",
            "|5f04f40130569ddab...|   54000|           BANK| 2011-12| Dr. Manda Jagnathan|        N|   INC|Others|           null|         3785|            0|            0|            0|               0|  500000000|          0|          0|          0|             0|1065122.1529722589|               0.0|        0.0|               0.0|              0.0| 4031487349|          0|          0|          0|            0|\n",
            "|524b1379d08e4c02f...|   54000|           BANK| 2011-12|    Prof. K.V.Thomas|        N|   INC|Others|           null|         3785|            0|            0|            0|               0|  500000000|          0|          0|          0|             0|1065122.1529722589|               0.0|        0.0|               0.0|              0.0| 4031487349|          0|          0|          0|            0|\n",
            "|6db7af0c5dca3b333...|  100000|         OTHERS| 2011-12|     Sweta Chyouksey|        Y|   BJP|Others|           null|            0|         8782|            0|            0|               0|          0|  500000000|          0|          0|             0|               0.0|1058474.8344340697|        0.0|               0.0|              0.0|          0| 9295525996|          0|          0|            0|\n",
            "|c01158e07376c3778...|  100000|         OTHERS| 2011-12|   Uma Shankar Gupta|        N|   BJP|Others|           null|            0|         8782|            0|            0|               0|          0|  500000000|          0|          0|             0|               0.0|1058474.8344340697|        0.0|               0.0|              0.0|          0| 9295525996|          0|          0|            0|\n",
            "|d8156bae0c4243d37...|   25000|           BANK| 2013-14|Parshwanath Bhakt...|        N|   BJP|Others|           null|            0|         8782|            0|            0|               0|          0|  500000000|          0|          0|             0|               0.0|1058474.8344340697|        0.0|               0.0|              0.0|          0| 9295525996|          0|          0|            0|\n",
            "|15c64efe58b209e20...|  100000|         OTHERS| 2011-12|Anand Constructio...|        Y|   BJP|Others|           null|            0|         8782|            0|            0|               0|          0|  500000000|          0|          0|             0|               0.0|1058474.8344340697|        0.0|               0.0|              0.0|          0| 9295525996|          0|          0|            0|\n",
            "|c8087c832dde2a1c4...|   54000|           BANK| 2013-14|       Kamal Kashore|        N|   INC|Others|           null|         3785|            0|            0|            0|               0|  500000000|          0|          0|          0|             0|1065122.1529722589|               0.0|        0.0|               0.0|              0.0| 4031487349|          0|          0|          0|            0|\n",
            "|9f2ba6981e36ea0fc...|  100000|           BANK| 2004-05|          R.V Pandit|        N|   BJP|Others|           null|            0|         8782|            0|            0|               0|          0|  500000000|          0|          0|             0|               0.0|1058474.8344340697|        0.0|               0.0|              0.0|          0| 9295525996|          0|          0|            0|\n",
            "|d8156bae0c4243d37...|  100000|         OTHERS| 2012-13|      A & T Infracon|        N|   BJP|Others|           null|            0|         8782|            0|            0|               0|          0|  500000000|          0|          0|             0|               0.0|1058474.8344340697|        0.0|               0.0|              0.0|          0| 9295525996|          0|          0|            0|\n",
            "|9ed075605230cbb74...|  300000|         CHEQUE| 2008-09|A 2 Z online  Ser...|        N|   BJP|Others|           null|            0|         8782|            0|            0|               0|          0|  500000000|          0|          0|             0|               0.0|1058474.8344340697|        0.0|               0.0|              0.0|          0| 9295525996|          0|          0|            0|\n",
            "|4bc59ca1c387bfd59...|  200000|         CHEQUE| 2008-09|A 2 Z online  Ser...|        N|   BJP|Others|           null|            0|         8782|            0|            0|               0|          0|  500000000|          0|          0|             0|               0.0|1058474.8344340697|        0.0|               0.0|              0.0|          0| 9295525996|          0|          0|            0|\n",
            "|4bc59ca1c387bfd59...|  200000|         CHEQUE| 2008-09|A 2 Z online  Ser...|        N|   BJP|Others|           null|            0|         8782|            0|            0|               0|          0|  500000000|          0|          0|             0|               0.0|1058474.8344340697|        0.0|               0.0|              0.0|          0| 9295525996|          0|          0|            0|\n",
            "|d8156bae0c4243d37...|  125000|           BANK| 2012-13|A B Rolling Mills...|        N|   BJP|Others|           null|            0|         8782|            0|            0|               0|          0|  500000000|          0|          0|             0|               0.0|1058474.8344340697|        0.0|               0.0|              0.0|          0| 9295525996|          0|          0|            0|\n",
            "|a68f3334fbfbdf18b...|  100000|           BANK| 2011-12|           A C Dixit|        N|   BJP|Others|           null|            0|         8782|            0|            0|               0|          0|  500000000|          0|          0|             0|               0.0|1058474.8344340697|        0.0|               0.0|              0.0|          0| 9295525996|          0|          0|            0|\n",
            "|e9552141c8f9ab365...|  100000|           BANK| 2014-15|        A D Builders|        Y|   BJP|Others|           null|            0|         8782|            0|            0|               0|          0|  500000000|          0|          0|             0|               0.0|1058474.8344340697|        0.0|               0.0|              0.0|          0| 9295525996|          0|          0|            0|\n",
            "|d8156bae0c4243d37...|   21000|         OTHERS| 2012-13|               A Fox|        N|   BJP|Others|           null|            0|         8782|            0|            0|               0|          0|  500000000|          0|          0|             0|               0.0|1058474.8344340697|        0.0|               0.0|              0.0|          0| 9295525996|          0|          0|            0|\n",
            "|6f87e5d7cdf08271c...|  100000|           BANK| 2009-10|A Mahendra Jewellers|        Y|   INC|Others|           null|         3785|            0|            0|            0|               0|  500000000|          0|          0|          0|             0|1065122.1529722589|               0.0|        0.0|               0.0|              0.0| 4031487349|          0|          0|          0|            0|\n",
            "+--------------------+--------+---------------+--------+--------------------+---------+------+------+---------------+-------------+-------------+-------------+-------------+----------------+-----------+-----------+-----------+-----------+--------------+------------------+------------------+-----------+------------------+-----------------+-----------+-----------+-----------+-----------+-------------+\n",
            "only showing top 20 rows\n",
            "\n"
          ]
        }
      ],
      "source": [
        "df.show()"
      ]
    },
    {
      "cell_type": "code",
      "execution_count": null,
      "metadata": {
        "id": "qK5yQH000J5L"
      },
      "outputs": [],
      "source": [
        "def add_top_donor_col(featuerName, partyName, maxValue,df):\n",
        "    maxDonorName = df.filter((df.Party == partyName) & (df.Amount == maxValue)).select('Name').first()['Name']\n",
        "    print(\"maxdonorName : \",maxDonorName)\n",
        "    df = df.withColumn(featureName, when(df.Party == partyName, maxDonorName).otherwise(''))\n",
        "\n",
        "    return df\n",
        "   "
      ]
    },
    {
      "cell_type": "code",
      "execution_count": null,
      "metadata": {
        "colab": {
          "base_uri": "https://localhost:8080/"
        },
        "id": "d3bSyLwS0J5M",
        "outputId": "290fa6ff-54f4-4beb-f14a-656ff57f1f0f"
      },
      "outputs": [
        {
          "output_type": "stream",
          "name": "stdout",
          "text": [
            "FeatureName:  INC_TOP_DONOR\n",
            "maxdonorName :  General Electoral Trust\n",
            "FeatureName:  BJP_TOP_DONOR\n",
            "maxdonorName :  General Electoral Trust\n",
            "FeatureName:  NCP_TOP_DONOR\n",
            "maxdonorName :  Lodha Dwellers Pvt. Ltd.\n",
            "FeatureName:  CPI_TOP_DONOR\n",
            "maxdonorName :  Aziz Pasha\n",
            "FeatureName:  CPI(M)_TOP_DONOR\n",
            "maxdonorName :  V K Ramachandran\n"
          ]
        }
      ],
      "source": [
        "for i in range(5):\n",
        "    partyName = partyNameList.collect()[i][0]\n",
        "    featureName =  partyName + '_TOP_DONOR'\n",
        "    print(\"FeatureName: \",featureName)\n",
        "    df = add_top_donor_col(featureName, partyNameList.collect()[i][0],maxAmountList.collect()[i][0],df)\n"
      ]
    },
    {
      "cell_type": "code",
      "execution_count": null,
      "metadata": {
        "colab": {
          "base_uri": "https://localhost:8080/"
        },
        "id": "hWcuYT6s0J5M",
        "outputId": "3bfd90e1-1b59-47f5-ff3a-fb7d4c83168d"
      },
      "outputs": [
        {
          "output_type": "stream",
          "name": "stdout",
          "text": [
            "+--------------------+--------+---------------+--------+--------------------+---------+------+------+---------------+-------------+-------------+-------------+-------------+----------------+-----------+-----------+-----------+-----------+--------------+------------------+------------------+-----------+------------------+-----------------+-----------+-----------+-----------+-----------+-------------+--------------------+--------------------+-------------+-------------+----------------+\n",
            "|             Address|  Amount|mode_of_payment|fin_year|                Name|pan_given| Party|  Type|_corrupt_record|INC_COUNT_LTD|BJP_COUNT_LTD|NCP_COUNT_LTD|CPI_COUNT_LTD|CPI(M)_COUNT_LTD|INC_MAX_LTD|BJP_MAX_LTD|NCP_MAX_LTD|CPI_MAX_LTD|CPI(M)_MAX_LTD|       INC_AVG_LTD|       BJP_AVG_LTD|NCP_AVG_LTD|       CPI_AVG_LTD|   CPI(M)_AVG_LTD|INC_SUM_LTD|BJP_SUM_LTD|NCP_SUM_LTD|CPI_SUM_LTD|CPI_M_SUM_LTD|       INC_TOP_DONOR|       BJP_TOP_DONOR|NCP_TOP_DONOR|CPI_TOP_DONOR|CPI(M)_TOP_DONOR|\n",
            "+--------------------+--------+---------------+--------+--------------------+---------+------+------+---------------+-------------+-------------+-------------+-------------+----------------+-----------+-----------+-----------+-----------+--------------+------------------+------------------+-----------+------------------+-----------------+-----------+-----------+-----------+-----------+-------------+--------------------+--------------------+-------------+-------------+----------------+\n",
            "|5a3058deb6f337958...| 3000000|           CASH| 2010-11|          Aziz Pasha|        Y|   CPI|Others|           null|            0|            0|            0|          384|               0|          0|          0|          0|    3000000|             0|               0.0|               0.0|        0.0|177405.46354166666|              0.0|          0|          0|          0|   68123698|            0|                    |                    |             |   Aziz Pasha|                |\n",
            "|846539cb21bc9e6c6...|10000000|           BANK| 2014-15|    V K Ramachandran|        Y|CPI(M)|Others|           null|            0|            0|            0|            0|             515|          0|          0|          0|          0|      10000000|               0.0|               0.0|        0.0|               0.0|292470.1514563107|          0|          0|          0|          0|            0|                    |                    |             |             |V K Ramachandran|\n",
            "|869fa3a19f1c51ad1...|  108000|         CHEQUE| 2014-15|  Dr. Manmohan Singh|        N|   INC|Others|           null|         3785|            0|            0|            0|               0|  500000000|          0|          0|          0|             0|1065122.1529722589|               0.0|        0.0|               0.0|              0.0| 4031487349|          0|          0|          0|            0|General Electoral...|                    |             |             |                |\n",
            "|5f04f40130569ddab...|   54000|           BANK| 2011-12| Dr. Manda Jagnathan|        N|   INC|Others|           null|         3785|            0|            0|            0|               0|  500000000|          0|          0|          0|             0|1065122.1529722589|               0.0|        0.0|               0.0|              0.0| 4031487349|          0|          0|          0|            0|General Electoral...|                    |             |             |                |\n",
            "|524b1379d08e4c02f...|   54000|           BANK| 2011-12|    Prof. K.V.Thomas|        N|   INC|Others|           null|         3785|            0|            0|            0|               0|  500000000|          0|          0|          0|             0|1065122.1529722589|               0.0|        0.0|               0.0|              0.0| 4031487349|          0|          0|          0|            0|General Electoral...|                    |             |             |                |\n",
            "|6db7af0c5dca3b333...|  100000|         OTHERS| 2011-12|     Sweta Chyouksey|        Y|   BJP|Others|           null|            0|         8782|            0|            0|               0|          0|  500000000|          0|          0|             0|               0.0|1058474.8344340697|        0.0|               0.0|              0.0|          0| 9295525996|          0|          0|            0|                    |General Electoral...|             |             |                |\n",
            "|c01158e07376c3778...|  100000|         OTHERS| 2011-12|   Uma Shankar Gupta|        N|   BJP|Others|           null|            0|         8782|            0|            0|               0|          0|  500000000|          0|          0|             0|               0.0|1058474.8344340697|        0.0|               0.0|              0.0|          0| 9295525996|          0|          0|            0|                    |General Electoral...|             |             |                |\n",
            "|d8156bae0c4243d37...|   25000|           BANK| 2013-14|Parshwanath Bhakt...|        N|   BJP|Others|           null|            0|         8782|            0|            0|               0|          0|  500000000|          0|          0|             0|               0.0|1058474.8344340697|        0.0|               0.0|              0.0|          0| 9295525996|          0|          0|            0|                    |General Electoral...|             |             |                |\n",
            "|15c64efe58b209e20...|  100000|         OTHERS| 2011-12|Anand Constructio...|        Y|   BJP|Others|           null|            0|         8782|            0|            0|               0|          0|  500000000|          0|          0|             0|               0.0|1058474.8344340697|        0.0|               0.0|              0.0|          0| 9295525996|          0|          0|            0|                    |General Electoral...|             |             |                |\n",
            "|c8087c832dde2a1c4...|   54000|           BANK| 2013-14|       Kamal Kashore|        N|   INC|Others|           null|         3785|            0|            0|            0|               0|  500000000|          0|          0|          0|             0|1065122.1529722589|               0.0|        0.0|               0.0|              0.0| 4031487349|          0|          0|          0|            0|General Electoral...|                    |             |             |                |\n",
            "|9f2ba6981e36ea0fc...|  100000|           BANK| 2004-05|          R.V Pandit|        N|   BJP|Others|           null|            0|         8782|            0|            0|               0|          0|  500000000|          0|          0|             0|               0.0|1058474.8344340697|        0.0|               0.0|              0.0|          0| 9295525996|          0|          0|            0|                    |General Electoral...|             |             |                |\n",
            "|d8156bae0c4243d37...|  100000|         OTHERS| 2012-13|      A & T Infracon|        N|   BJP|Others|           null|            0|         8782|            0|            0|               0|          0|  500000000|          0|          0|             0|               0.0|1058474.8344340697|        0.0|               0.0|              0.0|          0| 9295525996|          0|          0|            0|                    |General Electoral...|             |             |                |\n",
            "|9ed075605230cbb74...|  300000|         CHEQUE| 2008-09|A 2 Z online  Ser...|        N|   BJP|Others|           null|            0|         8782|            0|            0|               0|          0|  500000000|          0|          0|             0|               0.0|1058474.8344340697|        0.0|               0.0|              0.0|          0| 9295525996|          0|          0|            0|                    |General Electoral...|             |             |                |\n",
            "|4bc59ca1c387bfd59...|  200000|         CHEQUE| 2008-09|A 2 Z online  Ser...|        N|   BJP|Others|           null|            0|         8782|            0|            0|               0|          0|  500000000|          0|          0|             0|               0.0|1058474.8344340697|        0.0|               0.0|              0.0|          0| 9295525996|          0|          0|            0|                    |General Electoral...|             |             |                |\n",
            "|4bc59ca1c387bfd59...|  200000|         CHEQUE| 2008-09|A 2 Z online  Ser...|        N|   BJP|Others|           null|            0|         8782|            0|            0|               0|          0|  500000000|          0|          0|             0|               0.0|1058474.8344340697|        0.0|               0.0|              0.0|          0| 9295525996|          0|          0|            0|                    |General Electoral...|             |             |                |\n",
            "|d8156bae0c4243d37...|  125000|           BANK| 2012-13|A B Rolling Mills...|        N|   BJP|Others|           null|            0|         8782|            0|            0|               0|          0|  500000000|          0|          0|             0|               0.0|1058474.8344340697|        0.0|               0.0|              0.0|          0| 9295525996|          0|          0|            0|                    |General Electoral...|             |             |                |\n",
            "|a68f3334fbfbdf18b...|  100000|           BANK| 2011-12|           A C Dixit|        N|   BJP|Others|           null|            0|         8782|            0|            0|               0|          0|  500000000|          0|          0|             0|               0.0|1058474.8344340697|        0.0|               0.0|              0.0|          0| 9295525996|          0|          0|            0|                    |General Electoral...|             |             |                |\n",
            "|e9552141c8f9ab365...|  100000|           BANK| 2014-15|        A D Builders|        Y|   BJP|Others|           null|            0|         8782|            0|            0|               0|          0|  500000000|          0|          0|             0|               0.0|1058474.8344340697|        0.0|               0.0|              0.0|          0| 9295525996|          0|          0|            0|                    |General Electoral...|             |             |                |\n",
            "|d8156bae0c4243d37...|   21000|         OTHERS| 2012-13|               A Fox|        N|   BJP|Others|           null|            0|         8782|            0|            0|               0|          0|  500000000|          0|          0|             0|               0.0|1058474.8344340697|        0.0|               0.0|              0.0|          0| 9295525996|          0|          0|            0|                    |General Electoral...|             |             |                |\n",
            "|6f87e5d7cdf08271c...|  100000|           BANK| 2009-10|A Mahendra Jewellers|        Y|   INC|Others|           null|         3785|            0|            0|            0|               0|  500000000|          0|          0|          0|             0|1065122.1529722589|               0.0|        0.0|               0.0|              0.0| 4031487349|          0|          0|          0|            0|General Electoral...|                    |             |             |                |\n",
            "+--------------------+--------+---------------+--------+--------------------+---------+------+------+---------------+-------------+-------------+-------------+-------------+----------------+-----------+-----------+-----------+-----------+--------------+------------------+------------------+-----------+------------------+-----------------+-----------+-----------+-----------+-----------+-------------+--------------------+--------------------+-------------+-------------+----------------+\n",
            "only showing top 20 rows\n",
            "\n"
          ]
        }
      ],
      "source": [
        "df.show()"
      ]
    },
    {
      "cell_type": "code",
      "execution_count": null,
      "metadata": {
        "colab": {
          "base_uri": "https://localhost:8080/"
        },
        "id": "nx1yDQve0J5M",
        "outputId": "63843f75-c094-434b-99fa-550714059aa2"
      },
      "outputs": [
        {
          "output_type": "stream",
          "name": "stdout",
          "text": [
            "+--------+\n",
            "|fin_year|\n",
            "+--------+\n",
            "| 2003-04|\n",
            "| 2004-05|\n",
            "| 2005-06|\n",
            "| 2006-07|\n",
            "| 2007-08|\n",
            "| 2008-09|\n",
            "| 2009-10|\n",
            "| 2010-11|\n",
            "| 2011-12|\n",
            "| 2012-13|\n",
            "| 2013-14|\n",
            "| 2014-15|\n",
            "+--------+\n",
            "\n"
          ]
        }
      ],
      "source": [
        "finYearList = df.select('fin_year').distinct().sort('fin_year').show()"
      ]
    },
    {
      "cell_type": "code",
      "execution_count": null,
      "metadata": {
        "id": "qqfi2EfM0J5N"
      },
      "outputs": [],
      "source": [
        "def add_fin_year_col(featureName, partyName, maxAmount, df):\n",
        "    df = df.withColumn(featureName, when(df.Party == partyName, maxAmount).otherwise(''))\n",
        "    return df\n"
      ]
    },
    {
      "cell_type": "code",
      "execution_count": null,
      "metadata": {
        "colab": {
          "base_uri": "https://localhost:8080/"
        },
        "id": "vGAIjagu0J5N",
        "outputId": "fe9998c7-dbae-4960-977f-fad0ca1eca0c"
      },
      "outputs": [
        {
          "output_type": "stream",
          "name": "stdout",
          "text": [
            "partyName:  INC\n",
            "finyearcount:  12\n",
            "partyName:  BJP\n",
            "finyearcount:  12\n",
            "partyName:  NCP\n",
            "finyearcount:  8\n",
            "partyName:  CPI\n",
            "finyearcount:  12\n",
            "partyName:  CPI(M)\n",
            "finyearcount:  12\n"
          ]
        }
      ],
      "source": [
        "for i in range(5):\n",
        "    \n",
        "    yearlyList = df.groupBy('Party','fin_year').sum('Amount').filter(df.Party== partyNameList.collect()[i][0]).sort('fin_year')\n",
        "    \n",
        "    partyName = yearlyList.collect()[i][0]\n",
        "    finYearList = yearlyList.select('fin_year')\n",
        "    finYearCount = finYearList.count()\n",
        "    print(\"partyName: \",partyName)\n",
        "    print(\"finyearcount: \",finYearCount)\n",
        "    for j in range(finYearCount):\n",
        "        featureName = finYearList.collect()[j][0] + '_' + partyName + '_SUM'\n",
        "        maxAmount = yearlyList.collect()[j][2]\n",
        "        df = add_fin_year_col(featureName, partyName, maxAmount,df)"
      ]
    },
    {
      "cell_type": "code",
      "execution_count": null,
      "metadata": {
        "colab": {
          "base_uri": "https://localhost:8080/"
        },
        "id": "A6bebbAI0J5N",
        "outputId": "61fb7f06-b1f2-48db-cb6a-88ce041e17a2"
      },
      "outputs": [
        {
          "output_type": "stream",
          "name": "stdout",
          "text": [
            "+--------------------+--------+---------------+--------+--------------------+---------+------+------+---------------+-------------+-------------+-------------+-------------+----------------+-----------+-----------+-----------+-----------+--------------+------------------+------------------+-----------+------------------+-----------------+-----------+-----------+-----------+-----------+-------------+--------------------+--------------------+-------------+-------------+----------------+---------------+---------------+---------------+---------------+---------------+---------------+---------------+---------------+---------------+---------------+---------------+---------------+---------------+---------------+---------------+---------------+---------------+---------------+---------------+---------------+---------------+---------------+---------------+---------------+---------------+---------------+---------------+---------------+---------------+---------------+---------------+---------------+---------------+---------------+---------------+---------------+---------------+---------------+---------------+---------------+---------------+---------------+---------------+---------------+------------------+------------------+------------------+------------------+------------------+------------------+------------------+------------------+------------------+------------------+------------------+------------------+\n",
            "|             Address|  Amount|mode_of_payment|fin_year|                Name|pan_given| Party|  Type|_corrupt_record|INC_COUNT_LTD|BJP_COUNT_LTD|NCP_COUNT_LTD|CPI_COUNT_LTD|CPI(M)_COUNT_LTD|INC_MAX_LTD|BJP_MAX_LTD|NCP_MAX_LTD|CPI_MAX_LTD|CPI(M)_MAX_LTD|       INC_AVG_LTD|       BJP_AVG_LTD|NCP_AVG_LTD|       CPI_AVG_LTD|   CPI(M)_AVG_LTD|INC_SUM_LTD|BJP_SUM_LTD|NCP_SUM_LTD|CPI_SUM_LTD|CPI_M_SUM_LTD|       INC_TOP_DONOR|       BJP_TOP_DONOR|NCP_TOP_DONOR|CPI_TOP_DONOR|CPI(M)_TOP_DONOR|2003-04_INC_SUM|2004-05_INC_SUM|2005-06_INC_SUM|2006-07_INC_SUM|2007-08_INC_SUM|2008-09_INC_SUM|2009-10_INC_SUM|2010-11_INC_SUM|2011-12_INC_SUM|2012-13_INC_SUM|2013-14_INC_SUM|2014-15_INC_SUM|2003-04_BJP_SUM|2004-05_BJP_SUM|2005-06_BJP_SUM|2006-07_BJP_SUM|2007-08_BJP_SUM|2008-09_BJP_SUM|2009-10_BJP_SUM|2010-11_BJP_SUM|2011-12_BJP_SUM|2012-13_BJP_SUM|2013-14_BJP_SUM|2014-15_BJP_SUM|2007-08_NCP_SUM|2008-09_NCP_SUM|2009-10_NCP_SUM|2010-11_NCP_SUM|2011-12_NCP_SUM|2012-13_NCP_SUM|2013-14_NCP_SUM|2014-15_NCP_SUM|2003-04_CPI_SUM|2004-05_CPI_SUM|2005-06_CPI_SUM|2006-07_CPI_SUM|2007-08_CPI_SUM|2008-09_CPI_SUM|2009-10_CPI_SUM|2010-11_CPI_SUM|2011-12_CPI_SUM|2012-13_CPI_SUM|2013-14_CPI_SUM|2014-15_CPI_SUM|2003-04_CPI(M)_SUM|2004-05_CPI(M)_SUM|2005-06_CPI(M)_SUM|2006-07_CPI(M)_SUM|2007-08_CPI(M)_SUM|2008-09_CPI(M)_SUM|2009-10_CPI(M)_SUM|2010-11_CPI(M)_SUM|2011-12_CPI(M)_SUM|2012-13_CPI(M)_SUM|2013-14_CPI(M)_SUM|2014-15_CPI(M)_SUM|\n",
            "+--------------------+--------+---------------+--------+--------------------+---------+------+------+---------------+-------------+-------------+-------------+-------------+----------------+-----------+-----------+-----------+-----------+--------------+------------------+------------------+-----------+------------------+-----------------+-----------+-----------+-----------+-----------+-------------+--------------------+--------------------+-------------+-------------+----------------+---------------+---------------+---------------+---------------+---------------+---------------+---------------+---------------+---------------+---------------+---------------+---------------+---------------+---------------+---------------+---------------+---------------+---------------+---------------+---------------+---------------+---------------+---------------+---------------+---------------+---------------+---------------+---------------+---------------+---------------+---------------+---------------+---------------+---------------+---------------+---------------+---------------+---------------+---------------+---------------+---------------+---------------+---------------+---------------+------------------+------------------+------------------+------------------+------------------+------------------+------------------+------------------+------------------+------------------+------------------+------------------+\n",
            "|5a3058deb6f337958...| 3000000|           CASH| 2010-11|          Aziz Pasha|        Y|   CPI|Others|           null|            0|            0|            0|          384|               0|          0|          0|          0|    3000000|             0|               0.0|               0.0|        0.0|177405.46354166666|              0.0|          0|          0|          0|   68123698|            0|                    |                    |             |   Aziz Pasha|                |               |               |               |               |               |               |               |               |               |               |               |               |               |               |               |               |               |               |               |               |               |               |               |               |               |               |               |               |               |               |               |               |         779148|         630000|        3988690|        1229400|        4125800|        2585000|        8667852|       10811465|        5982675|        3695449|       12281544|       13346675|                  |                  |                  |                  |                  |                  |                  |                  |                  |                  |                  |                  |\n",
            "|846539cb21bc9e6c6...|10000000|           BANK| 2014-15|    V K Ramachandran|        Y|CPI(M)|Others|           null|            0|            0|            0|            0|             515|          0|          0|          0|          0|      10000000|               0.0|               0.0|        0.0|               0.0|292470.1514563107|          0|          0|          0|          0|            0|                    |                    |             |             |V K Ramachandran|               |               |               |               |               |               |               |               |               |               |               |               |               |               |               |               |               |               |               |               |               |               |               |               |               |               |               |               |               |               |               |               |               |               |               |               |               |               |               |               |               |               |               |               |            200000|            896355|            550000|           1124719|           7226116|           4155000|           3962049|          15357072|          23838657|          38139996|          20974666|          34197498|\n",
            "|869fa3a19f1c51ad1...|  108000|         CHEQUE| 2014-15|  Dr. Manmohan Singh|        N|   INC|Others|           null|         3785|            0|            0|            0|               0|  500000000|          0|          0|          0|             0|1065122.1529722589|               0.0|        0.0|               0.0|              0.0| 4031487349|          0|          0|          0|            0|General Electoral...|                    |             |             |                |       28301101|      320555643|       59212492|      121273513|       78873451|      279018460|      840521238|       80205884|       95910664|      117166225|      595837728|     1414610950|               |               |               |               |               |               |               |               |               |               |               |               |               |               |               |               |               |               |               |               |               |               |               |               |               |               |               |               |               |               |               |               |                  |                  |                  |                  |                  |                  |                  |                  |                  |                  |                  |                  |\n",
            "|5f04f40130569ddab...|   54000|           BANK| 2011-12| Dr. Manda Jagnathan|        N|   INC|Others|           null|         3785|            0|            0|            0|               0|  500000000|          0|          0|          0|             0|1065122.1529722589|               0.0|        0.0|               0.0|              0.0| 4031487349|          0|          0|          0|            0|General Electoral...|                    |             |             |                |       28301101|      320555643|       59212492|      121273513|       78873451|      279018460|      840521238|       80205884|       95910664|      117166225|      595837728|     1414610950|               |               |               |               |               |               |               |               |               |               |               |               |               |               |               |               |               |               |               |               |               |               |               |               |               |               |               |               |               |               |               |               |                  |                  |                  |                  |                  |                  |                  |                  |                  |                  |                  |                  |\n",
            "|524b1379d08e4c02f...|   54000|           BANK| 2011-12|    Prof. K.V.Thomas|        N|   INC|Others|           null|         3785|            0|            0|            0|               0|  500000000|          0|          0|          0|             0|1065122.1529722589|               0.0|        0.0|               0.0|              0.0| 4031487349|          0|          0|          0|            0|General Electoral...|                    |             |             |                |       28301101|      320555643|       59212492|      121273513|       78873451|      279018460|      840521238|       80205884|       95910664|      117166225|      595837728|     1414610950|               |               |               |               |               |               |               |               |               |               |               |               |               |               |               |               |               |               |               |               |               |               |               |               |               |               |               |               |               |               |               |               |                  |                  |                  |                  |                  |                  |                  |                  |                  |                  |                  |                  |\n",
            "|6db7af0c5dca3b333...|  100000|         OTHERS| 2011-12|     Sweta Chyouksey|        Y|   BJP|Others|           null|            0|         8782|            0|            0|               0|          0|  500000000|          0|          0|             0|               0.0|1058474.8344340697|        0.0|               0.0|              0.0|          0| 9295525996|          0|          0|            0|                    |General Electoral...|             |             |                |               |               |               |               |               |               |               |               |               |               |               |               |      116881973|      339521289|       36156111|       29550672|      249623653|      306057231|      823220133|      146253279|      334194113|      831924462|     1708636182|     4373506898|               |               |               |               |               |               |               |               |               |               |               |               |               |               |               |               |               |               |               |               |                  |                  |                  |                  |                  |                  |                  |                  |                  |                  |                  |                  |\n",
            "|c01158e07376c3778...|  100000|         OTHERS| 2011-12|   Uma Shankar Gupta|        N|   BJP|Others|           null|            0|         8782|            0|            0|               0|          0|  500000000|          0|          0|             0|               0.0|1058474.8344340697|        0.0|               0.0|              0.0|          0| 9295525996|          0|          0|            0|                    |General Electoral...|             |             |                |               |               |               |               |               |               |               |               |               |               |               |               |      116881973|      339521289|       36156111|       29550672|      249623653|      306057231|      823220133|      146253279|      334194113|      831924462|     1708636182|     4373506898|               |               |               |               |               |               |               |               |               |               |               |               |               |               |               |               |               |               |               |               |                  |                  |                  |                  |                  |                  |                  |                  |                  |                  |                  |                  |\n",
            "|d8156bae0c4243d37...|   25000|           BANK| 2013-14|Parshwanath Bhakt...|        N|   BJP|Others|           null|            0|         8782|            0|            0|               0|          0|  500000000|          0|          0|             0|               0.0|1058474.8344340697|        0.0|               0.0|              0.0|          0| 9295525996|          0|          0|            0|                    |General Electoral...|             |             |                |               |               |               |               |               |               |               |               |               |               |               |               |      116881973|      339521289|       36156111|       29550672|      249623653|      306057231|      823220133|      146253279|      334194113|      831924462|     1708636182|     4373506898|               |               |               |               |               |               |               |               |               |               |               |               |               |               |               |               |               |               |               |               |                  |                  |                  |                  |                  |                  |                  |                  |                  |                  |                  |                  |\n",
            "|15c64efe58b209e20...|  100000|         OTHERS| 2011-12|Anand Constructio...|        Y|   BJP|Others|           null|            0|         8782|            0|            0|               0|          0|  500000000|          0|          0|             0|               0.0|1058474.8344340697|        0.0|               0.0|              0.0|          0| 9295525996|          0|          0|            0|                    |General Electoral...|             |             |                |               |               |               |               |               |               |               |               |               |               |               |               |      116881973|      339521289|       36156111|       29550672|      249623653|      306057231|      823220133|      146253279|      334194113|      831924462|     1708636182|     4373506898|               |               |               |               |               |               |               |               |               |               |               |               |               |               |               |               |               |               |               |               |                  |                  |                  |                  |                  |                  |                  |                  |                  |                  |                  |                  |\n",
            "|c8087c832dde2a1c4...|   54000|           BANK| 2013-14|       Kamal Kashore|        N|   INC|Others|           null|         3785|            0|            0|            0|               0|  500000000|          0|          0|          0|             0|1065122.1529722589|               0.0|        0.0|               0.0|              0.0| 4031487349|          0|          0|          0|            0|General Electoral...|                    |             |             |                |       28301101|      320555643|       59212492|      121273513|       78873451|      279018460|      840521238|       80205884|       95910664|      117166225|      595837728|     1414610950|               |               |               |               |               |               |               |               |               |               |               |               |               |               |               |               |               |               |               |               |               |               |               |               |               |               |               |               |               |               |               |               |                  |                  |                  |                  |                  |                  |                  |                  |                  |                  |                  |                  |\n",
            "|9f2ba6981e36ea0fc...|  100000|           BANK| 2004-05|          R.V Pandit|        N|   BJP|Others|           null|            0|         8782|            0|            0|               0|          0|  500000000|          0|          0|             0|               0.0|1058474.8344340697|        0.0|               0.0|              0.0|          0| 9295525996|          0|          0|            0|                    |General Electoral...|             |             |                |               |               |               |               |               |               |               |               |               |               |               |               |      116881973|      339521289|       36156111|       29550672|      249623653|      306057231|      823220133|      146253279|      334194113|      831924462|     1708636182|     4373506898|               |               |               |               |               |               |               |               |               |               |               |               |               |               |               |               |               |               |               |               |                  |                  |                  |                  |                  |                  |                  |                  |                  |                  |                  |                  |\n",
            "|d8156bae0c4243d37...|  100000|         OTHERS| 2012-13|      A & T Infracon|        N|   BJP|Others|           null|            0|         8782|            0|            0|               0|          0|  500000000|          0|          0|             0|               0.0|1058474.8344340697|        0.0|               0.0|              0.0|          0| 9295525996|          0|          0|            0|                    |General Electoral...|             |             |                |               |               |               |               |               |               |               |               |               |               |               |               |      116881973|      339521289|       36156111|       29550672|      249623653|      306057231|      823220133|      146253279|      334194113|      831924462|     1708636182|     4373506898|               |               |               |               |               |               |               |               |               |               |               |               |               |               |               |               |               |               |               |               |                  |                  |                  |                  |                  |                  |                  |                  |                  |                  |                  |                  |\n",
            "|9ed075605230cbb74...|  300000|         CHEQUE| 2008-09|A 2 Z online  Ser...|        N|   BJP|Others|           null|            0|         8782|            0|            0|               0|          0|  500000000|          0|          0|             0|               0.0|1058474.8344340697|        0.0|               0.0|              0.0|          0| 9295525996|          0|          0|            0|                    |General Electoral...|             |             |                |               |               |               |               |               |               |               |               |               |               |               |               |      116881973|      339521289|       36156111|       29550672|      249623653|      306057231|      823220133|      146253279|      334194113|      831924462|     1708636182|     4373506898|               |               |               |               |               |               |               |               |               |               |               |               |               |               |               |               |               |               |               |               |                  |                  |                  |                  |                  |                  |                  |                  |                  |                  |                  |                  |\n",
            "|4bc59ca1c387bfd59...|  200000|         CHEQUE| 2008-09|A 2 Z online  Ser...|        N|   BJP|Others|           null|            0|         8782|            0|            0|               0|          0|  500000000|          0|          0|             0|               0.0|1058474.8344340697|        0.0|               0.0|              0.0|          0| 9295525996|          0|          0|            0|                    |General Electoral...|             |             |                |               |               |               |               |               |               |               |               |               |               |               |               |      116881973|      339521289|       36156111|       29550672|      249623653|      306057231|      823220133|      146253279|      334194113|      831924462|     1708636182|     4373506898|               |               |               |               |               |               |               |               |               |               |               |               |               |               |               |               |               |               |               |               |                  |                  |                  |                  |                  |                  |                  |                  |                  |                  |                  |                  |\n",
            "|4bc59ca1c387bfd59...|  200000|         CHEQUE| 2008-09|A 2 Z online  Ser...|        N|   BJP|Others|           null|            0|         8782|            0|            0|               0|          0|  500000000|          0|          0|             0|               0.0|1058474.8344340697|        0.0|               0.0|              0.0|          0| 9295525996|          0|          0|            0|                    |General Electoral...|             |             |                |               |               |               |               |               |               |               |               |               |               |               |               |      116881973|      339521289|       36156111|       29550672|      249623653|      306057231|      823220133|      146253279|      334194113|      831924462|     1708636182|     4373506898|               |               |               |               |               |               |               |               |               |               |               |               |               |               |               |               |               |               |               |               |                  |                  |                  |                  |                  |                  |                  |                  |                  |                  |                  |                  |\n",
            "|d8156bae0c4243d37...|  125000|           BANK| 2012-13|A B Rolling Mills...|        N|   BJP|Others|           null|            0|         8782|            0|            0|               0|          0|  500000000|          0|          0|             0|               0.0|1058474.8344340697|        0.0|               0.0|              0.0|          0| 9295525996|          0|          0|            0|                    |General Electoral...|             |             |                |               |               |               |               |               |               |               |               |               |               |               |               |      116881973|      339521289|       36156111|       29550672|      249623653|      306057231|      823220133|      146253279|      334194113|      831924462|     1708636182|     4373506898|               |               |               |               |               |               |               |               |               |               |               |               |               |               |               |               |               |               |               |               |                  |                  |                  |                  |                  |                  |                  |                  |                  |                  |                  |                  |\n",
            "|a68f3334fbfbdf18b...|  100000|           BANK| 2011-12|           A C Dixit|        N|   BJP|Others|           null|            0|         8782|            0|            0|               0|          0|  500000000|          0|          0|             0|               0.0|1058474.8344340697|        0.0|               0.0|              0.0|          0| 9295525996|          0|          0|            0|                    |General Electoral...|             |             |                |               |               |               |               |               |               |               |               |               |               |               |               |      116881973|      339521289|       36156111|       29550672|      249623653|      306057231|      823220133|      146253279|      334194113|      831924462|     1708636182|     4373506898|               |               |               |               |               |               |               |               |               |               |               |               |               |               |               |               |               |               |               |               |                  |                  |                  |                  |                  |                  |                  |                  |                  |                  |                  |                  |\n",
            "|e9552141c8f9ab365...|  100000|           BANK| 2014-15|        A D Builders|        Y|   BJP|Others|           null|            0|         8782|            0|            0|               0|          0|  500000000|          0|          0|             0|               0.0|1058474.8344340697|        0.0|               0.0|              0.0|          0| 9295525996|          0|          0|            0|                    |General Electoral...|             |             |                |               |               |               |               |               |               |               |               |               |               |               |               |      116881973|      339521289|       36156111|       29550672|      249623653|      306057231|      823220133|      146253279|      334194113|      831924462|     1708636182|     4373506898|               |               |               |               |               |               |               |               |               |               |               |               |               |               |               |               |               |               |               |               |                  |                  |                  |                  |                  |                  |                  |                  |                  |                  |                  |                  |\n",
            "|d8156bae0c4243d37...|   21000|         OTHERS| 2012-13|               A Fox|        N|   BJP|Others|           null|            0|         8782|            0|            0|               0|          0|  500000000|          0|          0|             0|               0.0|1058474.8344340697|        0.0|               0.0|              0.0|          0| 9295525996|          0|          0|            0|                    |General Electoral...|             |             |                |               |               |               |               |               |               |               |               |               |               |               |               |      116881973|      339521289|       36156111|       29550672|      249623653|      306057231|      823220133|      146253279|      334194113|      831924462|     1708636182|     4373506898|               |               |               |               |               |               |               |               |               |               |               |               |               |               |               |               |               |               |               |               |                  |                  |                  |                  |                  |                  |                  |                  |                  |                  |                  |                  |\n",
            "|6f87e5d7cdf08271c...|  100000|           BANK| 2009-10|A Mahendra Jewellers|        Y|   INC|Others|           null|         3785|            0|            0|            0|               0|  500000000|          0|          0|          0|             0|1065122.1529722589|               0.0|        0.0|               0.0|              0.0| 4031487349|          0|          0|          0|            0|General Electoral...|                    |             |             |                |       28301101|      320555643|       59212492|      121273513|       78873451|      279018460|      840521238|       80205884|       95910664|      117166225|      595837728|     1414610950|               |               |               |               |               |               |               |               |               |               |               |               |               |               |               |               |               |               |               |               |               |               |               |               |               |               |               |               |               |               |               |               |                  |                  |                  |                  |                  |                  |                  |                  |                  |                  |                  |                  |\n",
            "+--------------------+--------+---------------+--------+--------------------+---------+------+------+---------------+-------------+-------------+-------------+-------------+----------------+-----------+-----------+-----------+-----------+--------------+------------------+------------------+-----------+------------------+-----------------+-----------+-----------+-----------+-----------+-------------+--------------------+--------------------+-------------+-------------+----------------+---------------+---------------+---------------+---------------+---------------+---------------+---------------+---------------+---------------+---------------+---------------+---------------+---------------+---------------+---------------+---------------+---------------+---------------+---------------+---------------+---------------+---------------+---------------+---------------+---------------+---------------+---------------+---------------+---------------+---------------+---------------+---------------+---------------+---------------+---------------+---------------+---------------+---------------+---------------+---------------+---------------+---------------+---------------+---------------+------------------+------------------+------------------+------------------+------------------+------------------+------------------+------------------+------------------+------------------+------------------+------------------+\n",
            "only showing top 20 rows\n",
            "\n"
          ]
        }
      ],
      "source": [
        "df.show()"
      ]
    },
    {
      "cell_type": "code",
      "execution_count": null,
      "metadata": {
        "colab": {
          "base_uri": "https://localhost:8080/"
        },
        "id": "7R4XEi4W0J5O",
        "outputId": "a04b156d-91e4-4141-a474-7ac7cf6d5b7c"
      },
      "outputs": [
        {
          "output_type": "stream",
          "name": "stdout",
          "text": [
            "+---------------+\n",
            "|mode_of_payment|\n",
            "+---------------+\n",
            "|         OTHERS|\n",
            "|         CHEQUE|\n",
            "|           BANK|\n",
            "|           CASH|\n",
            "+---------------+\n",
            "\n"
          ]
        }
      ],
      "source": [
        "paymentModeList = df.select('mode_of_payment').distinct()\n",
        "paymentModeList.show()"
      ]
    },
    {
      "cell_type": "code",
      "execution_count": null,
      "metadata": {
        "id": "3UYurmLR0J5O"
      },
      "outputs": [],
      "source": [
        "def add_no_of_donation_per_mode_col(featureName, paymentMode, no_of_donations_val, df):\n",
        "    print(\"payment mode : \",paymentMode)\n",
        "    print(\"no_of_donations_val: \",no_of_donations_val)\n",
        "    df = df.withColumn(featureName, when(df.mode_of_payment == paymentMode, no_of_donations_val).otherwise(0))\n",
        "\n",
        "    return df"
      ]
    },
    {
      "cell_type": "code",
      "execution_count": null,
      "metadata": {
        "colab": {
          "base_uri": "https://localhost:8080/"
        },
        "id": "Pe07elkf0J5O",
        "outputId": "13b00915-c147-43ca-b94d-cdd2dc4b48c0"
      },
      "outputs": [
        {
          "output_type": "stream",
          "name": "stdout",
          "text": [
            "\n",
            "payment mode :  OTHERS\n",
            "no_of_donations_val:  3498\n",
            "\n",
            "payment mode :  CHEQUE\n",
            "no_of_donations_val:  1993\n",
            "\n",
            "payment mode :  BANK\n",
            "no_of_donations_val:  7279\n",
            "\n",
            "payment mode :  CASH\n",
            "no_of_donations_val:  803\n"
          ]
        }
      ],
      "source": [
        "for i in range(4):\n",
        "    paymentMode = paymentModeList.collect()[i][0]\n",
        "    print()\n",
        "    featureName = paymentMode + '_count_LTD'\n",
        "    donation_val = df.groupBy('mode_of_payment').agg(count('mode_of_payment')).filter(df.mode_of_payment == paymentMode).collect()[0][1]\n",
        "    df = add_no_of_donation_per_mode_col(featureName, paymentMode, donation_val, df)"
      ]
    },
    {
      "cell_type": "code",
      "execution_count": null,
      "metadata": {
        "colab": {
          "base_uri": "https://localhost:8080/"
        },
        "id": "yDSsHS0J0J5O",
        "outputId": "193adcec-b1f3-4d55-c304-9782c05d4de5"
      },
      "outputs": [
        {
          "output_type": "stream",
          "name": "stdout",
          "text": [
            "+--------------------+--------+---------------+--------+--------------------+---------+------+------+---------------+-------------+-------------+-------------+-------------+----------------+-----------+-----------+-----------+-----------+--------------+------------------+------------------+-----------+------------------+-----------------+-----------+-----------+-----------+-----------+-------------+--------------------+--------------------+-------------+-------------+----------------+---------------+---------------+---------------+---------------+---------------+---------------+---------------+---------------+---------------+---------------+---------------+---------------+---------------+---------------+---------------+---------------+---------------+---------------+---------------+---------------+---------------+---------------+---------------+---------------+---------------+---------------+---------------+---------------+---------------+---------------+---------------+---------------+---------------+---------------+---------------+---------------+---------------+---------------+---------------+---------------+---------------+---------------+---------------+---------------+------------------+------------------+------------------+------------------+------------------+------------------+------------------+------------------+------------------+------------------+------------------+------------------+----------------+----------------+--------------+--------------+\n",
            "|             Address|  Amount|mode_of_payment|fin_year|                Name|pan_given| Party|  Type|_corrupt_record|INC_COUNT_LTD|BJP_COUNT_LTD|NCP_COUNT_LTD|CPI_COUNT_LTD|CPI(M)_COUNT_LTD|INC_MAX_LTD|BJP_MAX_LTD|NCP_MAX_LTD|CPI_MAX_LTD|CPI(M)_MAX_LTD|       INC_AVG_LTD|       BJP_AVG_LTD|NCP_AVG_LTD|       CPI_AVG_LTD|   CPI(M)_AVG_LTD|INC_SUM_LTD|BJP_SUM_LTD|NCP_SUM_LTD|CPI_SUM_LTD|CPI_M_SUM_LTD|       INC_TOP_DONOR|       BJP_TOP_DONOR|NCP_TOP_DONOR|CPI_TOP_DONOR|CPI(M)_TOP_DONOR|2003-04_INC_SUM|2004-05_INC_SUM|2005-06_INC_SUM|2006-07_INC_SUM|2007-08_INC_SUM|2008-09_INC_SUM|2009-10_INC_SUM|2010-11_INC_SUM|2011-12_INC_SUM|2012-13_INC_SUM|2013-14_INC_SUM|2014-15_INC_SUM|2003-04_BJP_SUM|2004-05_BJP_SUM|2005-06_BJP_SUM|2006-07_BJP_SUM|2007-08_BJP_SUM|2008-09_BJP_SUM|2009-10_BJP_SUM|2010-11_BJP_SUM|2011-12_BJP_SUM|2012-13_BJP_SUM|2013-14_BJP_SUM|2014-15_BJP_SUM|2007-08_NCP_SUM|2008-09_NCP_SUM|2009-10_NCP_SUM|2010-11_NCP_SUM|2011-12_NCP_SUM|2012-13_NCP_SUM|2013-14_NCP_SUM|2014-15_NCP_SUM|2003-04_CPI_SUM|2004-05_CPI_SUM|2005-06_CPI_SUM|2006-07_CPI_SUM|2007-08_CPI_SUM|2008-09_CPI_SUM|2009-10_CPI_SUM|2010-11_CPI_SUM|2011-12_CPI_SUM|2012-13_CPI_SUM|2013-14_CPI_SUM|2014-15_CPI_SUM|2003-04_CPI(M)_SUM|2004-05_CPI(M)_SUM|2005-06_CPI(M)_SUM|2006-07_CPI(M)_SUM|2007-08_CPI(M)_SUM|2008-09_CPI(M)_SUM|2009-10_CPI(M)_SUM|2010-11_CPI(M)_SUM|2011-12_CPI(M)_SUM|2012-13_CPI(M)_SUM|2013-14_CPI(M)_SUM|2014-15_CPI(M)_SUM|OTHERS_count_LTD|CHEQUE_count_LTD|BANK_count_LTD|CASH_count_LTD|\n",
            "+--------------------+--------+---------------+--------+--------------------+---------+------+------+---------------+-------------+-------------+-------------+-------------+----------------+-----------+-----------+-----------+-----------+--------------+------------------+------------------+-----------+------------------+-----------------+-----------+-----------+-----------+-----------+-------------+--------------------+--------------------+-------------+-------------+----------------+---------------+---------------+---------------+---------------+---------------+---------------+---------------+---------------+---------------+---------------+---------------+---------------+---------------+---------------+---------------+---------------+---------------+---------------+---------------+---------------+---------------+---------------+---------------+---------------+---------------+---------------+---------------+---------------+---------------+---------------+---------------+---------------+---------------+---------------+---------------+---------------+---------------+---------------+---------------+---------------+---------------+---------------+---------------+---------------+------------------+------------------+------------------+------------------+------------------+------------------+------------------+------------------+------------------+------------------+------------------+------------------+----------------+----------------+--------------+--------------+\n",
            "|5a3058deb6f337958...| 3000000|           CASH| 2010-11|          Aziz Pasha|        Y|   CPI|Others|           null|            0|            0|            0|          384|               0|          0|          0|          0|    3000000|             0|               0.0|               0.0|        0.0|177405.46354166666|              0.0|          0|          0|          0|   68123698|            0|                    |                    |             |   Aziz Pasha|                |               |               |               |               |               |               |               |               |               |               |               |               |               |               |               |               |               |               |               |               |               |               |               |               |               |               |               |               |               |               |               |               |         779148|         630000|        3988690|        1229400|        4125800|        2585000|        8667852|       10811465|        5982675|        3695449|       12281544|       13346675|                  |                  |                  |                  |                  |                  |                  |                  |                  |                  |                  |                  |               0|               0|             0|           803|\n",
            "|846539cb21bc9e6c6...|10000000|           BANK| 2014-15|    V K Ramachandran|        Y|CPI(M)|Others|           null|            0|            0|            0|            0|             515|          0|          0|          0|          0|      10000000|               0.0|               0.0|        0.0|               0.0|292470.1514563107|          0|          0|          0|          0|            0|                    |                    |             |             |V K Ramachandran|               |               |               |               |               |               |               |               |               |               |               |               |               |               |               |               |               |               |               |               |               |               |               |               |               |               |               |               |               |               |               |               |               |               |               |               |               |               |               |               |               |               |               |               |            200000|            896355|            550000|           1124719|           7226116|           4155000|           3962049|          15357072|          23838657|          38139996|          20974666|          34197498|               0|               0|          7279|             0|\n",
            "|869fa3a19f1c51ad1...|  108000|         CHEQUE| 2014-15|  Dr. Manmohan Singh|        N|   INC|Others|           null|         3785|            0|            0|            0|               0|  500000000|          0|          0|          0|             0|1065122.1529722589|               0.0|        0.0|               0.0|              0.0| 4031487349|          0|          0|          0|            0|General Electoral...|                    |             |             |                |       28301101|      320555643|       59212492|      121273513|       78873451|      279018460|      840521238|       80205884|       95910664|      117166225|      595837728|     1414610950|               |               |               |               |               |               |               |               |               |               |               |               |               |               |               |               |               |               |               |               |               |               |               |               |               |               |               |               |               |               |               |               |                  |                  |                  |                  |                  |                  |                  |                  |                  |                  |                  |                  |               0|            1993|             0|             0|\n",
            "|5f04f40130569ddab...|   54000|           BANK| 2011-12| Dr. Manda Jagnathan|        N|   INC|Others|           null|         3785|            0|            0|            0|               0|  500000000|          0|          0|          0|             0|1065122.1529722589|               0.0|        0.0|               0.0|              0.0| 4031487349|          0|          0|          0|            0|General Electoral...|                    |             |             |                |       28301101|      320555643|       59212492|      121273513|       78873451|      279018460|      840521238|       80205884|       95910664|      117166225|      595837728|     1414610950|               |               |               |               |               |               |               |               |               |               |               |               |               |               |               |               |               |               |               |               |               |               |               |               |               |               |               |               |               |               |               |               |                  |                  |                  |                  |                  |                  |                  |                  |                  |                  |                  |                  |               0|               0|          7279|             0|\n",
            "|524b1379d08e4c02f...|   54000|           BANK| 2011-12|    Prof. K.V.Thomas|        N|   INC|Others|           null|         3785|            0|            0|            0|               0|  500000000|          0|          0|          0|             0|1065122.1529722589|               0.0|        0.0|               0.0|              0.0| 4031487349|          0|          0|          0|            0|General Electoral...|                    |             |             |                |       28301101|      320555643|       59212492|      121273513|       78873451|      279018460|      840521238|       80205884|       95910664|      117166225|      595837728|     1414610950|               |               |               |               |               |               |               |               |               |               |               |               |               |               |               |               |               |               |               |               |               |               |               |               |               |               |               |               |               |               |               |               |                  |                  |                  |                  |                  |                  |                  |                  |                  |                  |                  |                  |               0|               0|          7279|             0|\n",
            "|6db7af0c5dca3b333...|  100000|         OTHERS| 2011-12|     Sweta Chyouksey|        Y|   BJP|Others|           null|            0|         8782|            0|            0|               0|          0|  500000000|          0|          0|             0|               0.0|1058474.8344340697|        0.0|               0.0|              0.0|          0| 9295525996|          0|          0|            0|                    |General Electoral...|             |             |                |               |               |               |               |               |               |               |               |               |               |               |               |      116881973|      339521289|       36156111|       29550672|      249623653|      306057231|      823220133|      146253279|      334194113|      831924462|     1708636182|     4373506898|               |               |               |               |               |               |               |               |               |               |               |               |               |               |               |               |               |               |               |               |                  |                  |                  |                  |                  |                  |                  |                  |                  |                  |                  |                  |            3498|               0|             0|             0|\n",
            "|c01158e07376c3778...|  100000|         OTHERS| 2011-12|   Uma Shankar Gupta|        N|   BJP|Others|           null|            0|         8782|            0|            0|               0|          0|  500000000|          0|          0|             0|               0.0|1058474.8344340697|        0.0|               0.0|              0.0|          0| 9295525996|          0|          0|            0|                    |General Electoral...|             |             |                |               |               |               |               |               |               |               |               |               |               |               |               |      116881973|      339521289|       36156111|       29550672|      249623653|      306057231|      823220133|      146253279|      334194113|      831924462|     1708636182|     4373506898|               |               |               |               |               |               |               |               |               |               |               |               |               |               |               |               |               |               |               |               |                  |                  |                  |                  |                  |                  |                  |                  |                  |                  |                  |                  |            3498|               0|             0|             0|\n",
            "|d8156bae0c4243d37...|   25000|           BANK| 2013-14|Parshwanath Bhakt...|        N|   BJP|Others|           null|            0|         8782|            0|            0|               0|          0|  500000000|          0|          0|             0|               0.0|1058474.8344340697|        0.0|               0.0|              0.0|          0| 9295525996|          0|          0|            0|                    |General Electoral...|             |             |                |               |               |               |               |               |               |               |               |               |               |               |               |      116881973|      339521289|       36156111|       29550672|      249623653|      306057231|      823220133|      146253279|      334194113|      831924462|     1708636182|     4373506898|               |               |               |               |               |               |               |               |               |               |               |               |               |               |               |               |               |               |               |               |                  |                  |                  |                  |                  |                  |                  |                  |                  |                  |                  |                  |               0|               0|          7279|             0|\n",
            "|15c64efe58b209e20...|  100000|         OTHERS| 2011-12|Anand Constructio...|        Y|   BJP|Others|           null|            0|         8782|            0|            0|               0|          0|  500000000|          0|          0|             0|               0.0|1058474.8344340697|        0.0|               0.0|              0.0|          0| 9295525996|          0|          0|            0|                    |General Electoral...|             |             |                |               |               |               |               |               |               |               |               |               |               |               |               |      116881973|      339521289|       36156111|       29550672|      249623653|      306057231|      823220133|      146253279|      334194113|      831924462|     1708636182|     4373506898|               |               |               |               |               |               |               |               |               |               |               |               |               |               |               |               |               |               |               |               |                  |                  |                  |                  |                  |                  |                  |                  |                  |                  |                  |                  |            3498|               0|             0|             0|\n",
            "|c8087c832dde2a1c4...|   54000|           BANK| 2013-14|       Kamal Kashore|        N|   INC|Others|           null|         3785|            0|            0|            0|               0|  500000000|          0|          0|          0|             0|1065122.1529722589|               0.0|        0.0|               0.0|              0.0| 4031487349|          0|          0|          0|            0|General Electoral...|                    |             |             |                |       28301101|      320555643|       59212492|      121273513|       78873451|      279018460|      840521238|       80205884|       95910664|      117166225|      595837728|     1414610950|               |               |               |               |               |               |               |               |               |               |               |               |               |               |               |               |               |               |               |               |               |               |               |               |               |               |               |               |               |               |               |               |                  |                  |                  |                  |                  |                  |                  |                  |                  |                  |                  |                  |               0|               0|          7279|             0|\n",
            "|9f2ba6981e36ea0fc...|  100000|           BANK| 2004-05|          R.V Pandit|        N|   BJP|Others|           null|            0|         8782|            0|            0|               0|          0|  500000000|          0|          0|             0|               0.0|1058474.8344340697|        0.0|               0.0|              0.0|          0| 9295525996|          0|          0|            0|                    |General Electoral...|             |             |                |               |               |               |               |               |               |               |               |               |               |               |               |      116881973|      339521289|       36156111|       29550672|      249623653|      306057231|      823220133|      146253279|      334194113|      831924462|     1708636182|     4373506898|               |               |               |               |               |               |               |               |               |               |               |               |               |               |               |               |               |               |               |               |                  |                  |                  |                  |                  |                  |                  |                  |                  |                  |                  |                  |               0|               0|          7279|             0|\n",
            "|d8156bae0c4243d37...|  100000|         OTHERS| 2012-13|      A & T Infracon|        N|   BJP|Others|           null|            0|         8782|            0|            0|               0|          0|  500000000|          0|          0|             0|               0.0|1058474.8344340697|        0.0|               0.0|              0.0|          0| 9295525996|          0|          0|            0|                    |General Electoral...|             |             |                |               |               |               |               |               |               |               |               |               |               |               |               |      116881973|      339521289|       36156111|       29550672|      249623653|      306057231|      823220133|      146253279|      334194113|      831924462|     1708636182|     4373506898|               |               |               |               |               |               |               |               |               |               |               |               |               |               |               |               |               |               |               |               |                  |                  |                  |                  |                  |                  |                  |                  |                  |                  |                  |                  |            3498|               0|             0|             0|\n",
            "|9ed075605230cbb74...|  300000|         CHEQUE| 2008-09|A 2 Z online  Ser...|        N|   BJP|Others|           null|            0|         8782|            0|            0|               0|          0|  500000000|          0|          0|             0|               0.0|1058474.8344340697|        0.0|               0.0|              0.0|          0| 9295525996|          0|          0|            0|                    |General Electoral...|             |             |                |               |               |               |               |               |               |               |               |               |               |               |               |      116881973|      339521289|       36156111|       29550672|      249623653|      306057231|      823220133|      146253279|      334194113|      831924462|     1708636182|     4373506898|               |               |               |               |               |               |               |               |               |               |               |               |               |               |               |               |               |               |               |               |                  |                  |                  |                  |                  |                  |                  |                  |                  |                  |                  |                  |               0|            1993|             0|             0|\n",
            "|4bc59ca1c387bfd59...|  200000|         CHEQUE| 2008-09|A 2 Z online  Ser...|        N|   BJP|Others|           null|            0|         8782|            0|            0|               0|          0|  500000000|          0|          0|             0|               0.0|1058474.8344340697|        0.0|               0.0|              0.0|          0| 9295525996|          0|          0|            0|                    |General Electoral...|             |             |                |               |               |               |               |               |               |               |               |               |               |               |               |      116881973|      339521289|       36156111|       29550672|      249623653|      306057231|      823220133|      146253279|      334194113|      831924462|     1708636182|     4373506898|               |               |               |               |               |               |               |               |               |               |               |               |               |               |               |               |               |               |               |               |                  |                  |                  |                  |                  |                  |                  |                  |                  |                  |                  |                  |               0|            1993|             0|             0|\n",
            "|4bc59ca1c387bfd59...|  200000|         CHEQUE| 2008-09|A 2 Z online  Ser...|        N|   BJP|Others|           null|            0|         8782|            0|            0|               0|          0|  500000000|          0|          0|             0|               0.0|1058474.8344340697|        0.0|               0.0|              0.0|          0| 9295525996|          0|          0|            0|                    |General Electoral...|             |             |                |               |               |               |               |               |               |               |               |               |               |               |               |      116881973|      339521289|       36156111|       29550672|      249623653|      306057231|      823220133|      146253279|      334194113|      831924462|     1708636182|     4373506898|               |               |               |               |               |               |               |               |               |               |               |               |               |               |               |               |               |               |               |               |                  |                  |                  |                  |                  |                  |                  |                  |                  |                  |                  |                  |               0|            1993|             0|             0|\n",
            "|d8156bae0c4243d37...|  125000|           BANK| 2012-13|A B Rolling Mills...|        N|   BJP|Others|           null|            0|         8782|            0|            0|               0|          0|  500000000|          0|          0|             0|               0.0|1058474.8344340697|        0.0|               0.0|              0.0|          0| 9295525996|          0|          0|            0|                    |General Electoral...|             |             |                |               |               |               |               |               |               |               |               |               |               |               |               |      116881973|      339521289|       36156111|       29550672|      249623653|      306057231|      823220133|      146253279|      334194113|      831924462|     1708636182|     4373506898|               |               |               |               |               |               |               |               |               |               |               |               |               |               |               |               |               |               |               |               |                  |                  |                  |                  |                  |                  |                  |                  |                  |                  |                  |                  |               0|               0|          7279|             0|\n",
            "|a68f3334fbfbdf18b...|  100000|           BANK| 2011-12|           A C Dixit|        N|   BJP|Others|           null|            0|         8782|            0|            0|               0|          0|  500000000|          0|          0|             0|               0.0|1058474.8344340697|        0.0|               0.0|              0.0|          0| 9295525996|          0|          0|            0|                    |General Electoral...|             |             |                |               |               |               |               |               |               |               |               |               |               |               |               |      116881973|      339521289|       36156111|       29550672|      249623653|      306057231|      823220133|      146253279|      334194113|      831924462|     1708636182|     4373506898|               |               |               |               |               |               |               |               |               |               |               |               |               |               |               |               |               |               |               |               |                  |                  |                  |                  |                  |                  |                  |                  |                  |                  |                  |                  |               0|               0|          7279|             0|\n",
            "|e9552141c8f9ab365...|  100000|           BANK| 2014-15|        A D Builders|        Y|   BJP|Others|           null|            0|         8782|            0|            0|               0|          0|  500000000|          0|          0|             0|               0.0|1058474.8344340697|        0.0|               0.0|              0.0|          0| 9295525996|          0|          0|            0|                    |General Electoral...|             |             |                |               |               |               |               |               |               |               |               |               |               |               |               |      116881973|      339521289|       36156111|       29550672|      249623653|      306057231|      823220133|      146253279|      334194113|      831924462|     1708636182|     4373506898|               |               |               |               |               |               |               |               |               |               |               |               |               |               |               |               |               |               |               |               |                  |                  |                  |                  |                  |                  |                  |                  |                  |                  |                  |                  |               0|               0|          7279|             0|\n",
            "|d8156bae0c4243d37...|   21000|         OTHERS| 2012-13|               A Fox|        N|   BJP|Others|           null|            0|         8782|            0|            0|               0|          0|  500000000|          0|          0|             0|               0.0|1058474.8344340697|        0.0|               0.0|              0.0|          0| 9295525996|          0|          0|            0|                    |General Electoral...|             |             |                |               |               |               |               |               |               |               |               |               |               |               |               |      116881973|      339521289|       36156111|       29550672|      249623653|      306057231|      823220133|      146253279|      334194113|      831924462|     1708636182|     4373506898|               |               |               |               |               |               |               |               |               |               |               |               |               |               |               |               |               |               |               |               |                  |                  |                  |                  |                  |                  |                  |                  |                  |                  |                  |                  |            3498|               0|             0|             0|\n",
            "|6f87e5d7cdf08271c...|  100000|           BANK| 2009-10|A Mahendra Jewellers|        Y|   INC|Others|           null|         3785|            0|            0|            0|               0|  500000000|          0|          0|          0|             0|1065122.1529722589|               0.0|        0.0|               0.0|              0.0| 4031487349|          0|          0|          0|            0|General Electoral...|                    |             |             |                |       28301101|      320555643|       59212492|      121273513|       78873451|      279018460|      840521238|       80205884|       95910664|      117166225|      595837728|     1414610950|               |               |               |               |               |               |               |               |               |               |               |               |               |               |               |               |               |               |               |               |               |               |               |               |               |               |               |               |               |               |               |               |                  |                  |                  |                  |                  |                  |                  |                  |                  |                  |                  |                  |               0|               0|          7279|             0|\n",
            "+--------------------+--------+---------------+--------+--------------------+---------+------+------+---------------+-------------+-------------+-------------+-------------+----------------+-----------+-----------+-----------+-----------+--------------+------------------+------------------+-----------+------------------+-----------------+-----------+-----------+-----------+-----------+-------------+--------------------+--------------------+-------------+-------------+----------------+---------------+---------------+---------------+---------------+---------------+---------------+---------------+---------------+---------------+---------------+---------------+---------------+---------------+---------------+---------------+---------------+---------------+---------------+---------------+---------------+---------------+---------------+---------------+---------------+---------------+---------------+---------------+---------------+---------------+---------------+---------------+---------------+---------------+---------------+---------------+---------------+---------------+---------------+---------------+---------------+---------------+---------------+---------------+---------------+------------------+------------------+------------------+------------------+------------------+------------------+------------------+------------------+------------------+------------------+------------------+------------------+----------------+----------------+--------------+--------------+\n",
            "only showing top 20 rows\n",
            "\n"
          ]
        }
      ],
      "source": [
        "df.show()"
      ]
    },
    {
      "cell_type": "code",
      "execution_count": null,
      "metadata": {
        "id": "-fqafkA20J5O"
      },
      "outputs": [],
      "source": [
        "df.write.parquet(\"final_sheet.parquet\") "
      ]
    },
    {
      "cell_type": "code",
      "execution_count": null,
      "metadata": {
        "id": "jhgvRx0c0J5O"
      },
      "outputs": [],
      "source": [
        "df.write.csv(\"final_csv.csv\") "
      ]
    },
    {
      "cell_type": "code",
      "execution_count": null,
      "metadata": {
        "id": "CQ3HXFOv0J5O"
      },
      "outputs": [],
      "source": [
        ""
      ]
    }
  ],
  "metadata": {
    "kernelspec": {
      "display_name": "Python 3.9.13 64-bit",
      "language": "python",
      "name": "python3"
    },
    "language_info": {
      "codemirror_mode": {
        "name": "ipython",
        "version": 3
      },
      "file_extension": ".py",
      "mimetype": "text/x-python",
      "name": "python",
      "nbconvert_exporter": "python",
      "pygments_lexer": "ipython3",
      "version": "3.9.13"
    },
    "orig_nbformat": 4,
    "vscode": {
      "interpreter": {
        "hash": "cbed9511bb418f23daf0044bd7135c7cb891dd65399391f260a50a5ff34f66a1"
      }
    },
    "colab": {
      "name": "assignment.ipynb",
      "provenance": []
    }
  },
  "nbformat": 4,
  "nbformat_minor": 0
}