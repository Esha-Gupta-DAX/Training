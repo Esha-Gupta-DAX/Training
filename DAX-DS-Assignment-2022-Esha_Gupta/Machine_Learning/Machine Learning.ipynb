{
 "cells": [
  {
   "cell_type": "code",
   "execution_count": 57,
   "id": "10ea9470",
   "metadata": {},
   "outputs": [],
   "source": [
    "import numpy as np\n",
    "import pandas as pd\n",
    "import math\n",
    "from matplotlib import pyplot as plt\n",
    "import seaborn as sns\n",
    "\n",
    "from sklearn.feature_selection import mutual_info_classif\n",
    "from sklearn.model_selection import train_test_split\n",
    "from sklearn.tree import DecisionTreeClassifier\n",
    "from sklearn.metrics import confusion_matrix, accuracy_score, classification_report\n",
    "import pickle"
   ]
  },
  {
   "cell_type": "code",
   "execution_count": 6,
   "id": "b91bd2a6",
   "metadata": {},
   "outputs": [
    {
     "data": {
      "text/html": [
       "<div>\n",
       "<style scoped>\n",
       "    .dataframe tbody tr th:only-of-type {\n",
       "        vertical-align: middle;\n",
       "    }\n",
       "\n",
       "    .dataframe tbody tr th {\n",
       "        vertical-align: top;\n",
       "    }\n",
       "\n",
       "    .dataframe thead th {\n",
       "        text-align: right;\n",
       "    }\n",
       "</style>\n",
       "<table border=\"1\" class=\"dataframe\">\n",
       "  <thead>\n",
       "    <tr style=\"text-align: right;\">\n",
       "      <th></th>\n",
       "      <th>id</th>\n",
       "      <th>gender</th>\n",
       "      <th>age</th>\n",
       "      <th>hypertension</th>\n",
       "      <th>heart_disease</th>\n",
       "      <th>ever_married</th>\n",
       "      <th>work_type</th>\n",
       "      <th>Residence_type</th>\n",
       "      <th>avg_glucose_level</th>\n",
       "      <th>bmi</th>\n",
       "      <th>smoking_status</th>\n",
       "      <th>stroke</th>\n",
       "    </tr>\n",
       "  </thead>\n",
       "  <tbody>\n",
       "    <tr>\n",
       "      <th>0</th>\n",
       "      <td>0.123214</td>\n",
       "      <td>1</td>\n",
       "      <td>0.816895</td>\n",
       "      <td>0</td>\n",
       "      <td>1</td>\n",
       "      <td>1</td>\n",
       "      <td>2</td>\n",
       "      <td>1</td>\n",
       "      <td>0.934478</td>\n",
       "      <td>0.632212</td>\n",
       "      <td>1</td>\n",
       "      <td>1</td>\n",
       "    </tr>\n",
       "    <tr>\n",
       "      <th>1</th>\n",
       "      <td>0.708205</td>\n",
       "      <td>0</td>\n",
       "      <td>0.743652</td>\n",
       "      <td>0</td>\n",
       "      <td>0</td>\n",
       "      <td>1</td>\n",
       "      <td>3</td>\n",
       "      <td>0</td>\n",
       "      <td>0.791913</td>\n",
       "      <td>0.427885</td>\n",
       "      <td>2</td>\n",
       "      <td>1</td>\n",
       "    </tr>\n",
       "    <tr>\n",
       "      <th>2</th>\n",
       "      <td>0.426015</td>\n",
       "      <td>1</td>\n",
       "      <td>0.975586</td>\n",
       "      <td>0</td>\n",
       "      <td>1</td>\n",
       "      <td>1</td>\n",
       "      <td>2</td>\n",
       "      <td>0</td>\n",
       "      <td>0.273501</td>\n",
       "      <td>0.533654</td>\n",
       "      <td>2</td>\n",
       "      <td>1</td>\n",
       "    </tr>\n",
       "    <tr>\n",
       "      <th>3</th>\n",
       "      <td>0.824928</td>\n",
       "      <td>0</td>\n",
       "      <td>0.597168</td>\n",
       "      <td>0</td>\n",
       "      <td>0</td>\n",
       "      <td>1</td>\n",
       "      <td>2</td>\n",
       "      <td>1</td>\n",
       "      <td>0.625121</td>\n",
       "      <td>0.579327</td>\n",
       "      <td>3</td>\n",
       "      <td>1</td>\n",
       "    </tr>\n",
       "    <tr>\n",
       "      <th>4</th>\n",
       "      <td>0.021929</td>\n",
       "      <td>0</td>\n",
       "      <td>0.963379</td>\n",
       "      <td>1</td>\n",
       "      <td>0</td>\n",
       "      <td>1</td>\n",
       "      <td>3</td>\n",
       "      <td>0</td>\n",
       "      <td>0.640681</td>\n",
       "      <td>0.329327</td>\n",
       "      <td>2</td>\n",
       "      <td>1</td>\n",
       "    </tr>\n",
       "    <tr>\n",
       "      <th>...</th>\n",
       "      <td>...</td>\n",
       "      <td>...</td>\n",
       "      <td>...</td>\n",
       "      <td>...</td>\n",
       "      <td>...</td>\n",
       "      <td>...</td>\n",
       "      <td>...</td>\n",
       "      <td>...</td>\n",
       "      <td>...</td>\n",
       "      <td>...</td>\n",
       "      <td>...</td>\n",
       "      <td>...</td>\n",
       "    </tr>\n",
       "    <tr>\n",
       "      <th>5105</th>\n",
       "      <td>0.249297</td>\n",
       "      <td>0</td>\n",
       "      <td>0.975586</td>\n",
       "      <td>1</td>\n",
       "      <td>0</td>\n",
       "      <td>1</td>\n",
       "      <td>2</td>\n",
       "      <td>1</td>\n",
       "      <td>0.154140</td>\n",
       "      <td>0.427885</td>\n",
       "      <td>2</td>\n",
       "      <td>0</td>\n",
       "    </tr>\n",
       "    <tr>\n",
       "      <th>5106</th>\n",
       "      <td>0.614850</td>\n",
       "      <td>0</td>\n",
       "      <td>0.987793</td>\n",
       "      <td>0</td>\n",
       "      <td>0</td>\n",
       "      <td>1</td>\n",
       "      <td>3</td>\n",
       "      <td>1</td>\n",
       "      <td>0.377302</td>\n",
       "      <td>0.713942</td>\n",
       "      <td>2</td>\n",
       "      <td>0</td>\n",
       "    </tr>\n",
       "    <tr>\n",
       "      <th>5107</th>\n",
       "      <td>0.269730</td>\n",
       "      <td>0</td>\n",
       "      <td>0.426270</td>\n",
       "      <td>0</td>\n",
       "      <td>0</td>\n",
       "      <td>1</td>\n",
       "      <td>3</td>\n",
       "      <td>0</td>\n",
       "      <td>0.150048</td>\n",
       "      <td>0.487981</td>\n",
       "      <td>2</td>\n",
       "      <td>0</td>\n",
       "    </tr>\n",
       "    <tr>\n",
       "      <th>5108</th>\n",
       "      <td>0.514278</td>\n",
       "      <td>1</td>\n",
       "      <td>0.621582</td>\n",
       "      <td>0</td>\n",
       "      <td>0</td>\n",
       "      <td>1</td>\n",
       "      <td>2</td>\n",
       "      <td>0</td>\n",
       "      <td>0.598525</td>\n",
       "      <td>0.367788</td>\n",
       "      <td>1</td>\n",
       "      <td>0</td>\n",
       "    </tr>\n",
       "    <tr>\n",
       "      <th>5109</th>\n",
       "      <td>0.612188</td>\n",
       "      <td>0</td>\n",
       "      <td>0.536133</td>\n",
       "      <td>0</td>\n",
       "      <td>0</td>\n",
       "      <td>1</td>\n",
       "      <td>0</td>\n",
       "      <td>1</td>\n",
       "      <td>0.162378</td>\n",
       "      <td>0.382212</td>\n",
       "      <td>0</td>\n",
       "      <td>0</td>\n",
       "    </tr>\n",
       "  </tbody>\n",
       "</table>\n",
       "<p>5002 rows × 12 columns</p>\n",
       "</div>"
      ],
      "text/plain": [
       "            id  gender       age  hypertension  heart_disease  ever_married  \\\n",
       "0     0.123214       1  0.816895             0              1             1   \n",
       "1     0.708205       0  0.743652             0              0             1   \n",
       "2     0.426015       1  0.975586             0              1             1   \n",
       "3     0.824928       0  0.597168             0              0             1   \n",
       "4     0.021929       0  0.963379             1              0             1   \n",
       "...        ...     ...       ...           ...            ...           ...   \n",
       "5105  0.249297       0  0.975586             1              0             1   \n",
       "5106  0.614850       0  0.987793             0              0             1   \n",
       "5107  0.269730       0  0.426270             0              0             1   \n",
       "5108  0.514278       1  0.621582             0              0             1   \n",
       "5109  0.612188       0  0.536133             0              0             1   \n",
       "\n",
       "      work_type  Residence_type  avg_glucose_level       bmi  smoking_status  \\\n",
       "0             2               1           0.934478  0.632212               1   \n",
       "1             3               0           0.791913  0.427885               2   \n",
       "2             2               0           0.273501  0.533654               2   \n",
       "3             2               1           0.625121  0.579327               3   \n",
       "4             3               0           0.640681  0.329327               2   \n",
       "...         ...             ...                ...       ...             ...   \n",
       "5105          2               1           0.154140  0.427885               2   \n",
       "5106          3               1           0.377302  0.713942               2   \n",
       "5107          3               0           0.150048  0.487981               2   \n",
       "5108          2               0           0.598525  0.367788               1   \n",
       "5109          0               1           0.162378  0.382212               0   \n",
       "\n",
       "      stroke  \n",
       "0          1  \n",
       "1          1  \n",
       "2          1  \n",
       "3          1  \n",
       "4          1  \n",
       "...      ...  \n",
       "5105       0  \n",
       "5106       0  \n",
       "5107       0  \n",
       "5108       0  \n",
       "5109       0  \n",
       "\n",
       "[5002 rows x 12 columns]"
      ]
     },
     "execution_count": 6,
     "metadata": {},
     "output_type": "execute_result"
    }
   ],
   "source": [
    "df = pd.read_csv(r\"C:\\Users\\egupta\\Desktop\\DAX-DS-Assignment-2022-Esha_Gupta\\heartstroke dataset after data analytics.csv\", index_col=0)\n",
    "df"
   ]
  },
  {
   "cell_type": "code",
   "execution_count": 19,
   "id": "dbb86331",
   "metadata": {},
   "outputs": [],
   "source": [
    "X = df.values[:, : len(df.columns)-1]\n",
    "Y = df.values[:,-1]"
   ]
  },
  {
   "cell_type": "code",
   "execution_count": 20,
   "id": "90ae638c",
   "metadata": {},
   "outputs": [
    {
     "data": {
      "text/plain": [
       "array([[0.12321436, 1.        , 0.81689453, ..., 0.9344783 , 0.63221154,\n",
       "        1.        ],\n",
       "       [0.70820468, 0.        , 0.74365234, ..., 0.79191343, 0.42788462,\n",
       "        2.        ],\n",
       "       [0.42601512, 1.        , 0.97558594, ..., 0.27350059, 0.53365385,\n",
       "        2.        ],\n",
       "       ...,\n",
       "       [0.26972953, 0.        , 0.42626953, ..., 0.15004845, 0.48798077,\n",
       "        2.        ],\n",
       "       [0.51427826, 1.        , 0.62158203, ..., 0.59852482, 0.36778846,\n",
       "        1.        ],\n",
       "       [0.61218833, 0.        , 0.53613281, ..., 0.16237752, 0.38221154,\n",
       "        0.        ]])"
      ]
     },
     "execution_count": 20,
     "metadata": {},
     "output_type": "execute_result"
    }
   ],
   "source": [
    "X"
   ]
  },
  {
   "cell_type": "code",
   "execution_count": 21,
   "id": "aab14f56",
   "metadata": {},
   "outputs": [
    {
     "data": {
      "text/plain": [
       "array([1., 1., 1., ..., 0., 0., 0.])"
      ]
     },
     "execution_count": 21,
     "metadata": {},
     "output_type": "execute_result"
    }
   ],
   "source": [
    "Y"
   ]
  },
  {
   "cell_type": "markdown",
   "id": "39ae528b",
   "metadata": {},
   "source": [
    "# Feature Selection\n",
    "First, checking the correlation of dependent aattribute i.e stroke with other attributes"
   ]
  },
  {
   "cell_type": "code",
   "execution_count": 8,
   "id": "953da599",
   "metadata": {},
   "outputs": [
    {
     "data": {
      "text/html": [
       "<div>\n",
       "<style scoped>\n",
       "    .dataframe tbody tr th:only-of-type {\n",
       "        vertical-align: middle;\n",
       "    }\n",
       "\n",
       "    .dataframe tbody tr th {\n",
       "        vertical-align: top;\n",
       "    }\n",
       "\n",
       "    .dataframe thead th {\n",
       "        text-align: right;\n",
       "    }\n",
       "</style>\n",
       "<table border=\"1\" class=\"dataframe\">\n",
       "  <thead>\n",
       "    <tr style=\"text-align: right;\">\n",
       "      <th></th>\n",
       "      <th>id</th>\n",
       "      <th>gender</th>\n",
       "      <th>age</th>\n",
       "      <th>hypertension</th>\n",
       "      <th>heart_disease</th>\n",
       "      <th>ever_married</th>\n",
       "      <th>work_type</th>\n",
       "      <th>Residence_type</th>\n",
       "      <th>avg_glucose_level</th>\n",
       "      <th>bmi</th>\n",
       "      <th>smoking_status</th>\n",
       "      <th>stroke</th>\n",
       "    </tr>\n",
       "  </thead>\n",
       "  <tbody>\n",
       "    <tr>\n",
       "      <th>id</th>\n",
       "      <td>1.000000</td>\n",
       "      <td>0.001908</td>\n",
       "      <td>0.003283</td>\n",
       "      <td>0.004181</td>\n",
       "      <td>-0.002742</td>\n",
       "      <td>0.012823</td>\n",
       "      <td>-0.018964</td>\n",
       "      <td>-0.005296</td>\n",
       "      <td>-0.000047</td>\n",
       "      <td>0.016431</td>\n",
       "      <td>0.011947</td>\n",
       "      <td>0.003235</td>\n",
       "    </tr>\n",
       "    <tr>\n",
       "      <th>gender</th>\n",
       "      <td>0.001908</td>\n",
       "      <td>1.000000</td>\n",
       "      <td>-0.029320</td>\n",
       "      <td>0.016912</td>\n",
       "      <td>0.083991</td>\n",
       "      <td>-0.031748</td>\n",
       "      <td>0.055538</td>\n",
       "      <td>-0.004891</td>\n",
       "      <td>0.055000</td>\n",
       "      <td>-0.020868</td>\n",
       "      <td>-0.063247</td>\n",
       "      <td>0.003252</td>\n",
       "    </tr>\n",
       "    <tr>\n",
       "      <th>age</th>\n",
       "      <td>0.003283</td>\n",
       "      <td>-0.029320</td>\n",
       "      <td>1.000000</td>\n",
       "      <td>0.277528</td>\n",
       "      <td>0.262957</td>\n",
       "      <td>0.681191</td>\n",
       "      <td>-0.365718</td>\n",
       "      <td>0.014636</td>\n",
       "      <td>0.218924</td>\n",
       "      <td>0.357836</td>\n",
       "      <td>0.265766</td>\n",
       "      <td>0.243827</td>\n",
       "    </tr>\n",
       "    <tr>\n",
       "      <th>hypertension</th>\n",
       "      <td>0.004181</td>\n",
       "      <td>0.016912</td>\n",
       "      <td>0.277528</td>\n",
       "      <td>1.000000</td>\n",
       "      <td>0.104100</td>\n",
       "      <td>0.164592</td>\n",
       "      <td>-0.050360</td>\n",
       "      <td>0.000900</td>\n",
       "      <td>0.160597</td>\n",
       "      <td>0.141079</td>\n",
       "      <td>0.110468</td>\n",
       "      <td>0.120867</td>\n",
       "    </tr>\n",
       "    <tr>\n",
       "      <th>heart_disease</th>\n",
       "      <td>-0.002742</td>\n",
       "      <td>0.083991</td>\n",
       "      <td>0.262957</td>\n",
       "      <td>0.104100</td>\n",
       "      <td>1.000000</td>\n",
       "      <td>0.113398</td>\n",
       "      <td>-0.031049</td>\n",
       "      <td>0.003243</td>\n",
       "      <td>0.158241</td>\n",
       "      <td>0.050398</td>\n",
       "      <td>0.047482</td>\n",
       "      <td>0.126521</td>\n",
       "    </tr>\n",
       "    <tr>\n",
       "      <th>ever_married</th>\n",
       "      <td>0.012823</td>\n",
       "      <td>-0.031748</td>\n",
       "      <td>0.681191</td>\n",
       "      <td>0.164592</td>\n",
       "      <td>0.113398</td>\n",
       "      <td>1.000000</td>\n",
       "      <td>-0.356154</td>\n",
       "      <td>0.005270</td>\n",
       "      <td>0.141621</td>\n",
       "      <td>0.358633</td>\n",
       "      <td>0.261606</td>\n",
       "      <td>0.106695</td>\n",
       "    </tr>\n",
       "    <tr>\n",
       "      <th>work_type</th>\n",
       "      <td>-0.018964</td>\n",
       "      <td>0.055538</td>\n",
       "      <td>-0.365718</td>\n",
       "      <td>-0.050360</td>\n",
       "      <td>-0.031049</td>\n",
       "      <td>-0.356154</td>\n",
       "      <td>1.000000</td>\n",
       "      <td>-0.008999</td>\n",
       "      <td>-0.046228</td>\n",
       "      <td>-0.321202</td>\n",
       "      <td>-0.311756</td>\n",
       "      <td>-0.032080</td>\n",
       "    </tr>\n",
       "    <tr>\n",
       "      <th>Residence_type</th>\n",
       "      <td>-0.005296</td>\n",
       "      <td>-0.004891</td>\n",
       "      <td>0.014636</td>\n",
       "      <td>0.000900</td>\n",
       "      <td>0.003243</td>\n",
       "      <td>0.005270</td>\n",
       "      <td>-0.008999</td>\n",
       "      <td>1.000000</td>\n",
       "      <td>-0.004005</td>\n",
       "      <td>0.006226</td>\n",
       "      <td>0.008303</td>\n",
       "      <td>0.017887</td>\n",
       "    </tr>\n",
       "    <tr>\n",
       "      <th>avg_glucose_level</th>\n",
       "      <td>-0.000047</td>\n",
       "      <td>0.055000</td>\n",
       "      <td>0.218924</td>\n",
       "      <td>0.160597</td>\n",
       "      <td>0.158241</td>\n",
       "      <td>0.141621</td>\n",
       "      <td>-0.046228</td>\n",
       "      <td>-0.004005</td>\n",
       "      <td>1.000000</td>\n",
       "      <td>0.169778</td>\n",
       "      <td>0.052818</td>\n",
       "      <td>0.120517</td>\n",
       "    </tr>\n",
       "    <tr>\n",
       "      <th>bmi</th>\n",
       "      <td>0.016431</td>\n",
       "      <td>-0.020868</td>\n",
       "      <td>0.357836</td>\n",
       "      <td>0.141079</td>\n",
       "      <td>0.050398</td>\n",
       "      <td>0.358633</td>\n",
       "      <td>-0.321202</td>\n",
       "      <td>0.006226</td>\n",
       "      <td>0.169778</td>\n",
       "      <td>1.000000</td>\n",
       "      <td>0.241367</td>\n",
       "      <td>0.041678</td>\n",
       "    </tr>\n",
       "    <tr>\n",
       "      <th>smoking_status</th>\n",
       "      <td>0.011947</td>\n",
       "      <td>-0.063247</td>\n",
       "      <td>0.265766</td>\n",
       "      <td>0.110468</td>\n",
       "      <td>0.047482</td>\n",
       "      <td>0.261606</td>\n",
       "      <td>-0.311756</td>\n",
       "      <td>0.008303</td>\n",
       "      <td>0.052818</td>\n",
       "      <td>0.241367</td>\n",
       "      <td>1.000000</td>\n",
       "      <td>0.024630</td>\n",
       "    </tr>\n",
       "    <tr>\n",
       "      <th>stroke</th>\n",
       "      <td>0.003235</td>\n",
       "      <td>0.003252</td>\n",
       "      <td>0.243827</td>\n",
       "      <td>0.120867</td>\n",
       "      <td>0.126521</td>\n",
       "      <td>0.106695</td>\n",
       "      <td>-0.032080</td>\n",
       "      <td>0.017887</td>\n",
       "      <td>0.120517</td>\n",
       "      <td>0.041678</td>\n",
       "      <td>0.024630</td>\n",
       "      <td>1.000000</td>\n",
       "    </tr>\n",
       "  </tbody>\n",
       "</table>\n",
       "</div>"
      ],
      "text/plain": [
       "                         id    gender       age  hypertension  heart_disease  \\\n",
       "id                 1.000000  0.001908  0.003283      0.004181      -0.002742   \n",
       "gender             0.001908  1.000000 -0.029320      0.016912       0.083991   \n",
       "age                0.003283 -0.029320  1.000000      0.277528       0.262957   \n",
       "hypertension       0.004181  0.016912  0.277528      1.000000       0.104100   \n",
       "heart_disease     -0.002742  0.083991  0.262957      0.104100       1.000000   \n",
       "ever_married       0.012823 -0.031748  0.681191      0.164592       0.113398   \n",
       "work_type         -0.018964  0.055538 -0.365718     -0.050360      -0.031049   \n",
       "Residence_type    -0.005296 -0.004891  0.014636      0.000900       0.003243   \n",
       "avg_glucose_level -0.000047  0.055000  0.218924      0.160597       0.158241   \n",
       "bmi                0.016431 -0.020868  0.357836      0.141079       0.050398   \n",
       "smoking_status     0.011947 -0.063247  0.265766      0.110468       0.047482   \n",
       "stroke             0.003235  0.003252  0.243827      0.120867       0.126521   \n",
       "\n",
       "                   ever_married  work_type  Residence_type  avg_glucose_level  \\\n",
       "id                     0.012823  -0.018964       -0.005296          -0.000047   \n",
       "gender                -0.031748   0.055538       -0.004891           0.055000   \n",
       "age                    0.681191  -0.365718        0.014636           0.218924   \n",
       "hypertension           0.164592  -0.050360        0.000900           0.160597   \n",
       "heart_disease          0.113398  -0.031049        0.003243           0.158241   \n",
       "ever_married           1.000000  -0.356154        0.005270           0.141621   \n",
       "work_type             -0.356154   1.000000       -0.008999          -0.046228   \n",
       "Residence_type         0.005270  -0.008999        1.000000          -0.004005   \n",
       "avg_glucose_level      0.141621  -0.046228       -0.004005           1.000000   \n",
       "bmi                    0.358633  -0.321202        0.006226           0.169778   \n",
       "smoking_status         0.261606  -0.311756        0.008303           0.052818   \n",
       "stroke                 0.106695  -0.032080        0.017887           0.120517   \n",
       "\n",
       "                        bmi  smoking_status    stroke  \n",
       "id                 0.016431        0.011947  0.003235  \n",
       "gender            -0.020868       -0.063247  0.003252  \n",
       "age                0.357836        0.265766  0.243827  \n",
       "hypertension       0.141079        0.110468  0.120867  \n",
       "heart_disease      0.050398        0.047482  0.126521  \n",
       "ever_married       0.358633        0.261606  0.106695  \n",
       "work_type         -0.321202       -0.311756 -0.032080  \n",
       "Residence_type     0.006226        0.008303  0.017887  \n",
       "avg_glucose_level  0.169778        0.052818  0.120517  \n",
       "bmi                1.000000        0.241367  0.041678  \n",
       "smoking_status     0.241367        1.000000  0.024630  \n",
       "stroke             0.041678        0.024630  1.000000  "
      ]
     },
     "execution_count": 8,
     "metadata": {},
     "output_type": "execute_result"
    }
   ],
   "source": [
    "df.corr()"
   ]
  },
  {
   "cell_type": "markdown",
   "id": "d320def5",
   "metadata": {},
   "source": [
    "# Feature Selection using Information gain"
   ]
  },
  {
   "cell_type": "code",
   "execution_count": 23,
   "id": "8581fbf1",
   "metadata": {},
   "outputs": [
    {
     "data": {
      "text/plain": [
       "<AxesSubplot:>"
      ]
     },
     "execution_count": 23,
     "metadata": {},
     "output_type": "execute_result"
    },
    {
     "data": {
      "image/png": "[encoded data removed]",
      "text/plain": [
       "<Figure size 432x288 with 1 Axes>"
      ]
     },
     "metadata": {
      "needs_background": "light"
     },
     "output_type": "display_data"
    }
   ],
   "source": [
    "importances = mutual_info_classif(X,Y)\n",
    "featureImp = pd.Series(importances, df.columns[0:len(df.columns)-1])\n",
    "featureImp.plot(kind=\"barh\")"
   ]
  },
  {
   "cell_type": "code",
   "execution_count": 28,
   "id": "bbab436a",
   "metadata": {},
   "outputs": [
    {
     "data": {
      "text/plain": [
       "array([[1.        , 0.81689453, 1.        , 2.        , 0.9344783 ,\n",
       "        0.63221154],\n",
       "       [0.        , 0.74365234, 0.        , 3.        , 0.79191343,\n",
       "        0.42788462],\n",
       "       [1.        , 0.97558594, 1.        , 2.        , 0.27350059,\n",
       "        0.53365385],\n",
       "       ...,\n",
       "       [0.        , 0.42626953, 0.        , 3.        , 0.15004845,\n",
       "        0.48798077],\n",
       "       [1.        , 0.62158203, 0.        , 2.        , 0.59852482,\n",
       "        0.36778846],\n",
       "       [0.        , 0.53613281, 0.        , 0.        , 0.16237752,\n",
       "        0.38221154]])"
      ]
     },
     "execution_count": 28,
     "metadata": {},
     "output_type": "execute_result"
    }
   ],
   "source": [
    "independent_feature_cols = ['gender', 'age', 'heart_disease','work_type','avg_glucose_level','bmi']\n",
    "X = df[independent_feature_cols]\n",
    "X = X.values[:,:]\n",
    "X"
   ]
  },
  {
   "cell_type": "code",
   "execution_count": 29,
   "id": "792aa993",
   "metadata": {},
   "outputs": [
    {
     "data": {
      "text/plain": [
       "array([1., 1., 1., ..., 0., 0., 0.])"
      ]
     },
     "execution_count": 29,
     "metadata": {},
     "output_type": "execute_result"
    }
   ],
   "source": [
    "Y"
   ]
  },
  {
   "cell_type": "markdown",
   "id": "2f41b358",
   "metadata": {},
   "source": [
    "# Spliting the dataset into train, test and validation set"
   ]
  },
  {
   "cell_type": "code",
   "execution_count": 32,
   "id": "69634a5c",
   "metadata": {},
   "outputs": [],
   "source": [
    "X_train, X_test, y_train, y_test = train_test_split(X, Y, test_size = 0.3, random_state = 100)\n",
    "X_test, X_val, y_test, y_val = train_test_split(X_test, y_test, test_size = 0.15, random_state = 100)"
   ]
  },
  {
   "cell_type": "markdown",
   "id": "db3a4b21",
   "metadata": {},
   "source": [
    "# Building the model "
   ]
  },
  {
   "cell_type": "code",
   "execution_count": 53,
   "id": "f6d195c8",
   "metadata": {},
   "outputs": [
    {
     "data": {
      "text/html": [
       "<style>#sk-container-id-4 {color: black;background-color: white;}#sk-container-id-4 pre{padding: 0;}#sk-container-id-4 div.sk-toggleable {background-color: white;}#sk-container-id-4 label.sk-toggleable__label {cursor: pointer;display: block;width: 100%;margin-bottom: 0;padding: 0.3em;box-sizing: border-box;text-align: center;}#sk-container-id-4 label.sk-toggleable__label-arrow:before {content: \"▸\";float: left;margin-right: 0.25em;color: #696969;}#sk-container-id-4 label.sk-toggleable__label-arrow:hover:before {color: black;}#sk-container-id-4 div.sk-estimator:hover label.sk-toggleable__label-arrow:before {color: black;}#sk-container-id-4 div.sk-toggleable__content {max-height: 0;max-width: 0;overflow: hidden;text-align: left;background-color: #f0f8ff;}#sk-container-id-4 div.sk-toggleable__content pre {margin: 0.2em;color: black;border-radius: 0.25em;background-color: #f0f8ff;}#sk-container-id-4 input.sk-toggleable__control:checked~div.sk-toggleable__content {max-height: 200px;max-width: 100%;overflow: auto;}#sk-container-id-4 input.sk-toggleable__control:checked~label.sk-toggleable__label-arrow:before {content: \"▾\";}#sk-container-id-4 div.sk-estimator input.sk-toggleable__control:checked~label.sk-toggleable__label {background-color: #d4ebff;}#sk-container-id-4 div.sk-label input.sk-toggleable__control:checked~label.sk-toggleable__label {background-color: #d4ebff;}#sk-container-id-4 input.sk-hidden--visually {border: 0;clip: rect(1px 1px 1px 1px);clip: rect(1px, 1px, 1px, 1px);height: 1px;margin: -1px;overflow: hidden;padding: 0;position: absolute;width: 1px;}#sk-container-id-4 div.sk-estimator {font-family: monospace;background-color: #f0f8ff;border: 1px dotted black;border-radius: 0.25em;box-sizing: border-box;margin-bottom: 0.5em;}#sk-container-id-4 div.sk-estimator:hover {background-color: #d4ebff;}#sk-container-id-4 div.sk-parallel-item::after {content: \"\";width: 100%;border-bottom: 1px solid gray;flex-grow: 1;}#sk-container-id-4 div.sk-label:hover label.sk-toggleable__label {background-color: #d4ebff;}#sk-container-id-4 div.sk-serial::before {content: \"\";position: absolute;border-left: 1px solid gray;box-sizing: border-box;top: 0;bottom: 0;left: 50%;z-index: 0;}#sk-container-id-4 div.sk-serial {display: flex;flex-direction: column;align-items: center;background-color: white;padding-right: 0.2em;padding-left: 0.2em;position: relative;}#sk-container-id-4 div.sk-item {position: relative;z-index: 1;}#sk-container-id-4 div.sk-parallel {display: flex;align-items: stretch;justify-content: center;background-color: white;position: relative;}#sk-container-id-4 div.sk-item::before, #sk-container-id-4 div.sk-parallel-item::before {content: \"\";position: absolute;border-left: 1px solid gray;box-sizing: border-box;top: 0;bottom: 0;left: 50%;z-index: -1;}#sk-container-id-4 div.sk-parallel-item {display: flex;flex-direction: column;z-index: 1;position: relative;background-color: white;}#sk-container-id-4 div.sk-parallel-item:first-child::after {align-self: flex-end;width: 50%;}#sk-container-id-4 div.sk-parallel-item:last-child::after {align-self: flex-start;width: 50%;}#sk-container-id-4 div.sk-parallel-item:only-child::after {width: 0;}#sk-container-id-4 div.sk-dashed-wrapped {border: 1px dashed gray;margin: 0 0.4em 0.5em 0.4em;box-sizing: border-box;padding-bottom: 0.4em;background-color: white;}#sk-container-id-4 div.sk-label label {font-family: monospace;font-weight: bold;display: inline-block;line-height: 1.2em;}#sk-container-id-4 div.sk-label-container {text-align: center;}#sk-container-id-4 div.sk-container {/* jupyter's `normalize.less` sets `[hidden] { display: none; }` but bootstrap.min.css set `[hidden] { display: none !important; }` so we also need the `!important` here to be able to override the default hidden behavior on the sphinx rendered scikit-learn.org. See: https://github.com/scikit-learn/scikit-learn/issues/21755 */display: inline-block !important;position: relative;}#sk-container-id-4 div.sk-text-repr-fallback {display: none;}</style><div id=\"sk-container-id-4\" class=\"sk-top-container\"><div class=\"sk-text-repr-fallback\"><pre>DecisionTreeClassifier(criterion=&#x27;entropy&#x27;)</pre><b>In a Jupyter environment, please rerun this cell to show the HTML representation or trust the notebook. <br />On GitHub, the HTML representation is unable to render, please try loading this page with nbviewer.org.</b></div><div class=\"sk-container\" hidden><div class=\"sk-item\"><div class=\"sk-estimator sk-toggleable\"><input class=\"sk-toggleable__control sk-hidden--visually\" id=\"sk-estimator-id-4\" type=\"checkbox\" checked><label for=\"sk-estimator-id-4\" class=\"sk-toggleable__label sk-toggleable__label-arrow\">DecisionTreeClassifier</label><div class=\"sk-toggleable__content\"><pre>DecisionTreeClassifier(criterion=&#x27;entropy&#x27;)</pre></div></div></div></div></div>"
      ],
      "text/plain": [
       "DecisionTreeClassifier(criterion='entropy')"
      ]
     },
     "execution_count": 53,
     "metadata": {},
     "output_type": "execute_result"
    }
   ],
   "source": [
    "entropy_classifier = DecisionTreeClassifier(criterion = \"entropy\")\n",
    "  \n",
    "# Performing training\n",
    "entropy_classifier.fit(X_train, y_train)"
   ]
  },
  {
   "cell_type": "code",
   "execution_count": 54,
   "id": "afb68302",
   "metadata": {},
   "outputs": [
    {
     "name": "stdout",
     "output_type": "stream",
     "text": [
      "Predicted values:\n"
     ]
    },
    {
     "data": {
      "text/plain": [
       "array([0., 0., 0., ..., 0., 0., 0.])"
      ]
     },
     "execution_count": 54,
     "metadata": {},
     "output_type": "execute_result"
    }
   ],
   "source": [
    "y_pred = entropy_classifier.predict(X_test)\n",
    "print(\"Predicted values:\")\n",
    "y_pred\n"
   ]
  },
  {
   "cell_type": "markdown",
   "id": "e962b201",
   "metadata": {},
   "source": [
    "# Evaluation of the model"
   ]
  },
  {
   "cell_type": "code",
   "execution_count": 55,
   "id": "989fca29",
   "metadata": {},
   "outputs": [
    {
     "name": "stdout",
     "output_type": "stream",
     "text": [
      "Confusion Matrix: \n"
     ]
    },
    {
     "data": {
      "text/plain": [
       "<AxesSubplot:>"
      ]
     },
     "execution_count": 55,
     "metadata": {},
     "output_type": "execute_result"
    },
    {
     "data": {
      "image/png": "[encoded data removed]",
      "text/plain": [
       "<Figure size 432x288 with 2 Axes>"
      ]
     },
     "metadata": {
      "needs_background": "light"
     },
     "output_type": "display_data"
    }
   ],
   "source": [
    "confusionMatrix = confusion_matrix(y_test, y_pred)\n",
    "print(\"Confusion Matrix: \")\n",
    "sns.heatmap(confusionMatrix, annot=True)\n"
   ]
  },
  {
   "cell_type": "code",
   "execution_count": 56,
   "id": "c2e7989d",
   "metadata": {},
   "outputs": [
    {
     "name": "stdout",
     "output_type": "stream",
     "text": [
      "Accuracy :  91.6078431372549\n",
      "Report :                precision    recall  f1-score   support\n",
      "\n",
      "         0.0       0.96      0.95      0.96      1216\n",
      "         1.0       0.12      0.14      0.13        59\n",
      "\n",
      "    accuracy                           0.92      1275\n",
      "   macro avg       0.54      0.54      0.54      1275\n",
      "weighted avg       0.92      0.92      0.92      1275\n",
      "\n"
     ]
    }
   ],
   "source": [
    "print (\"Accuracy : \",accuracy_score(y_test,y_pred)*100)\n",
    "\n",
    "print(\"Report : \", classification_report(y_test, y_pred))"
   ]
  },
  {
   "cell_type": "markdown",
   "id": "4f3e3307",
   "metadata": {},
   "source": [
    "# Pickle Model"
   ]
  },
  {
   "cell_type": "code",
   "execution_count": 59,
   "id": "baaf0180",
   "metadata": {},
   "outputs": [],
   "source": [
    "with open('decision_tree_model', 'wb') as files:\n",
    "    pickle.dump(entropy_classifier, files)"
   ]
  },
  {
   "cell_type": "code",
   "execution_count": 60,
   "id": "ad0a94e4",
   "metadata": {},
   "outputs": [],
   "source": [
    "with open('decision_tree_model' , 'rb') as modelFile:\n",
    "    decisionTree = pickle.load(modelFile)"
   ]
  },
  {
   "cell_type": "markdown",
   "id": "bf0389b5",
   "metadata": {},
   "source": [
    "# Predicting the values of the validation set with the pickle model"
   ]
  },
  {
   "cell_type": "code",
   "execution_count": 61,
   "id": "30ef39b5",
   "metadata": {},
   "outputs": [
    {
     "name": "stdout",
     "output_type": "stream",
     "text": [
      "Predicted values:\n"
     ]
    },
    {
     "data": {
      "text/plain": [
       "array([0., 0., 0., 0., 1., 0., 0., 0., 1., 0., 0., 0., 0., 0., 0., 0., 0.,\n",
       "       0., 0., 0., 0., 1., 0., 0., 0., 0., 0., 0., 0., 0., 0., 1., 0., 0.,\n",
       "       0., 0., 0., 0., 0., 0., 0., 0., 0., 0., 0., 0., 0., 0., 0., 1., 0.,\n",
       "       0., 0., 0., 0., 0., 0., 0., 0., 0., 0., 0., 1., 0., 0., 0., 0., 0.,\n",
       "       0., 0., 0., 0., 0., 0., 0., 0., 0., 0., 0., 0., 0., 0., 0., 0., 1.,\n",
       "       0., 1., 0., 0., 0., 0., 0., 0., 0., 0., 0., 0., 0., 0., 0., 0., 0.,\n",
       "       0., 0., 0., 0., 0., 0., 1., 0., 0., 0., 0., 0., 0., 0., 0., 0., 0.,\n",
       "       0., 0., 0., 0., 0., 0., 1., 0., 0., 0., 0., 1., 0., 0., 0., 0., 0.,\n",
       "       0., 0., 0., 0., 0., 0., 0., 0., 0., 0., 0., 0., 0., 0., 0., 0., 0.,\n",
       "       0., 0., 0., 1., 0., 0., 0., 0., 0., 0., 0., 0., 0., 0., 0., 0., 0.,\n",
       "       0., 0., 0., 0., 0., 0., 0., 0., 0., 0., 0., 0., 0., 0., 0., 0., 0.,\n",
       "       0., 0., 0., 0., 0., 0., 0., 0., 1., 0., 0., 0., 0., 0., 0., 0., 0.,\n",
       "       0., 0., 0., 0., 0., 0., 0., 0., 0., 0., 0., 0., 0., 0., 0., 0., 0.,\n",
       "       0., 0., 0., 0., 0.])"
      ]
     },
     "execution_count": 61,
     "metadata": {},
     "output_type": "execute_result"
    }
   ],
   "source": [
    "valid_pred = decisionTree.predict(X_val)\n",
    "print(\"Predicted values:\")\n",
    "valid_pred\n"
   ]
  },
  {
   "cell_type": "code",
   "execution_count": 62,
   "id": "2f1593db",
   "metadata": {},
   "outputs": [
    {
     "name": "stdout",
     "output_type": "stream",
     "text": [
      "Confusion Matrix: \n"
     ]
    },
    {
     "data": {
      "text/plain": [
       "<AxesSubplot:>"
      ]
     },
     "execution_count": 62,
     "metadata": {},
     "output_type": "execute_result"
    },
    {
     "data": {
      "image/png": "[encoded data removed]",
      "text/plain": [
       "<Figure size 432x288 with 2 Axes>"
      ]
     },
     "metadata": {
      "needs_background": "light"
     },
     "output_type": "display_data"
    }
   ],
   "source": [
    "confusionMatrix = confusion_matrix(y_val, valid_pred)\n",
    "print(\"Confusion Matrix: \")\n",
    "sns.heatmap(confusionMatrix, annot=True)"
   ]
  },
  {
   "cell_type": "code",
   "execution_count": 63,
   "id": "28ea0835",
   "metadata": {},
   "outputs": [
    {
     "name": "stdout",
     "output_type": "stream",
     "text": [
      "Accuracy :  89.82300884955751\n",
      "Report :                precision    recall  f1-score   support\n",
      "\n",
      "         0.0       0.95      0.94      0.95       216\n",
      "         1.0       0.00      0.00      0.00        10\n",
      "\n",
      "    accuracy                           0.90       226\n",
      "   macro avg       0.48      0.47      0.47       226\n",
      "weighted avg       0.91      0.90      0.90       226\n",
      "\n"
     ]
    }
   ],
   "source": [
    "print (\"Accuracy : \",accuracy_score(y_val,valid_pred)*100)\n",
    "\n",
    "print(\"Report : \", classification_report(y_val, valid_pred))"
   ]
  },
  {
   "cell_type": "code",
   "execution_count": null,
   "id": "7ccb60b4",
   "metadata": {},
   "outputs": [],
   "source": []
  }
 ],
 "metadata": {
  "kernelspec": {
   "display_name": "Python 3 (ipykernel)",
   "language": "python",
   "name": "python3"
  },
  "language_info": {
   "codemirror_mode": {
    "name": "ipython",
    "version": 3
   },
   "file_extension": ".py",
   "mimetype": "text/x-python",
   "name": "python",
   "nbconvert_exporter": "python",
   "pygments_lexer": "ipython3",
   "version": "3.9.13"
  }
 },
 "nbformat": 4,
 "nbformat_minor": 5
}
